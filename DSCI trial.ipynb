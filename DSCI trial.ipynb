{
 "cells": [
  {
   "cell_type": "code",
   "execution_count": 35,
   "metadata": {},
   "outputs": [],
   "source": [
    "library(tidyverse)\n",
    "library(repr)\n",
    "library(tidymodels)\n",
    "library(dplyr)\n",
    "if (!require(\"stringr\")) install.packages(\"stringr\")\n",
    "library('stringr')"
   ]
  },
  {
   "cell_type": "markdown",
   "metadata": {},
   "source": [
    "# Classification of Customer Type \n",
    "\n",
    "## Introduction: \n",
    "Supermarket sales are often in high competition due to the demand for their resources. This dataset aims to examine data from a supermarket company with three distinctive branches. The data has been collected in a three month time period. The plan of action is to analyze supermarket sales of three different branches and predict whether a new customer will be a store member or not by the use of multiple variables. \n",
    "\n",
    "## Methods: \n",
    "To predict whether a new customer will be a store member or not will be done by various variables provided by the dataset. The variables that will be utilized will be gender, product line (categorization groups of items), and, customer satisfaction rating, total price of invoice (which includes unit price, quantity, and 5% tax). Visualization of the data could be done through the use of ___________. \n",
    "\n",
    "\n",
    "## Expected outcomes and significance: \n",
    "The prediction is to estimate whether a new customer will sign up for a membership or not. This example of classification could help supermarkets analyze what the threshold is for people to spend on products and get a membership for the store. Customer type prediction could lead to future questions regarding which variable is the most effective one when predicting customer type. \n"
   ]
  },
  {
   "cell_type": "code",
   "execution_count": 39,
   "metadata": {},
   "outputs": [
    {
     "name": "stderr",
     "output_type": "stream",
     "text": [
      "Parsed with column specification:\n",
      "cols(\n",
      "  `Invoice ID` = \u001b[31mcol_character()\u001b[39m,\n",
      "  Branch = \u001b[31mcol_character()\u001b[39m,\n",
      "  City = \u001b[31mcol_character()\u001b[39m,\n",
      "  `Customer type` = \u001b[31mcol_character()\u001b[39m,\n",
      "  Gender = \u001b[31mcol_character()\u001b[39m,\n",
      "  `Product line` = \u001b[31mcol_character()\u001b[39m,\n",
      "  `Unit price` = \u001b[32mcol_double()\u001b[39m,\n",
      "  Quantity = \u001b[32mcol_double()\u001b[39m,\n",
      "  `Tax 5%` = \u001b[32mcol_double()\u001b[39m,\n",
      "  Total = \u001b[32mcol_double()\u001b[39m,\n",
      "  Date = \u001b[31mcol_character()\u001b[39m,\n",
      "  Time = \u001b[34mcol_time(format = \"\")\u001b[39m,\n",
      "  Payment = \u001b[31mcol_character()\u001b[39m,\n",
      "  cogs = \u001b[32mcol_double()\u001b[39m,\n",
      "  `gross margin percentage` = \u001b[32mcol_double()\u001b[39m,\n",
      "  `gross income` = \u001b[32mcol_double()\u001b[39m,\n",
      "  Rating = \u001b[32mcol_double()\u001b[39m\n",
      ")\n",
      "\n"
     ]
    },
    {
     "data": {
      "text/html": [
       "<table>\n",
       "<caption>A spec_tbl_df: 10 × 17</caption>\n",
       "<thead>\n",
       "\t<tr><th scope=col>Invoice_ID</th><th scope=col>Branch</th><th scope=col>City</th><th scope=col>Customer_type</th><th scope=col>Gender</th><th scope=col>Product_line</th><th scope=col>Unit_price</th><th scope=col>Quantity</th><th scope=col>Tax_5%</th><th scope=col>Total</th><th scope=col>Date</th><th scope=col>Time</th><th scope=col>Payment</th><th scope=col>cogs</th><th scope=col>gross_margin_percentage</th><th scope=col>gross_income</th><th scope=col>Rating</th></tr>\n",
       "\t<tr><th scope=col>&lt;chr&gt;</th><th scope=col>&lt;chr&gt;</th><th scope=col>&lt;chr&gt;</th><th scope=col>&lt;chr&gt;</th><th scope=col>&lt;chr&gt;</th><th scope=col>&lt;chr&gt;</th><th scope=col>&lt;dbl&gt;</th><th scope=col>&lt;dbl&gt;</th><th scope=col>&lt;dbl&gt;</th><th scope=col>&lt;dbl&gt;</th><th scope=col>&lt;chr&gt;</th><th scope=col>&lt;time&gt;</th><th scope=col>&lt;chr&gt;</th><th scope=col>&lt;dbl&gt;</th><th scope=col>&lt;dbl&gt;</th><th scope=col>&lt;dbl&gt;</th><th scope=col>&lt;dbl&gt;</th></tr>\n",
       "</thead>\n",
       "<tbody>\n",
       "\t<tr><td>750-67-8428</td><td>A</td><td>Yangon   </td><td>Member</td><td>Female</td><td>Health and beauty     </td><td>74.69</td><td> 7</td><td>26.1415</td><td>548.9715</td><td>1/5/2019 </td><td>13:08:00</td><td>Ewallet    </td><td>522.83</td><td>4.761905</td><td>26.1415</td><td>9.1</td></tr>\n",
       "\t<tr><td>226-31-3081</td><td>C</td><td>Naypyitaw</td><td>Normal</td><td>Female</td><td>Electronic accessories</td><td>15.28</td><td> 5</td><td> 3.8200</td><td> 80.2200</td><td>3/8/2019 </td><td>10:29:00</td><td>Cash       </td><td> 76.40</td><td>4.761905</td><td> 3.8200</td><td>9.6</td></tr>\n",
       "\t<tr><td>631-41-3108</td><td>A</td><td>Yangon   </td><td>Normal</td><td>Male  </td><td>Home and lifestyle    </td><td>46.33</td><td> 7</td><td>16.2155</td><td>340.5255</td><td>3/3/2019 </td><td>13:23:00</td><td>Credit card</td><td>324.31</td><td>4.761905</td><td>16.2155</td><td>7.4</td></tr>\n",
       "\t<tr><td>123-19-1176</td><td>A</td><td>Yangon   </td><td>Member</td><td>Male  </td><td>Health and beauty     </td><td>58.22</td><td> 8</td><td>23.2880</td><td>489.0480</td><td>1/27/2019</td><td>20:33:00</td><td>Ewallet    </td><td>465.76</td><td>4.761905</td><td>23.2880</td><td>8.4</td></tr>\n",
       "\t<tr><td>373-73-7910</td><td>A</td><td>Yangon   </td><td>Normal</td><td>Male  </td><td>Sports and travel     </td><td>86.31</td><td> 7</td><td>30.2085</td><td>634.3785</td><td>2/8/2019 </td><td>10:37:00</td><td>Ewallet    </td><td>604.17</td><td>4.761905</td><td>30.2085</td><td>5.3</td></tr>\n",
       "\t<tr><td>699-14-3026</td><td>C</td><td>Naypyitaw</td><td>Normal</td><td>Male  </td><td>Electronic accessories</td><td>85.39</td><td> 7</td><td>29.8865</td><td>627.6165</td><td>3/25/2019</td><td>18:30:00</td><td>Ewallet    </td><td>597.73</td><td>4.761905</td><td>29.8865</td><td>4.1</td></tr>\n",
       "\t<tr><td>355-53-5943</td><td>A</td><td>Yangon   </td><td>Member</td><td>Female</td><td>Electronic accessories</td><td>68.84</td><td> 6</td><td>20.6520</td><td>433.6920</td><td>2/25/2019</td><td>14:36:00</td><td>Ewallet    </td><td>413.04</td><td>4.761905</td><td>20.6520</td><td>5.8</td></tr>\n",
       "\t<tr><td>315-22-5665</td><td>C</td><td>Naypyitaw</td><td>Normal</td><td>Female</td><td>Home and lifestyle    </td><td>73.56</td><td>10</td><td>36.7800</td><td>772.3800</td><td>2/24/2019</td><td>11:38:00</td><td>Ewallet    </td><td>735.60</td><td>4.761905</td><td>36.7800</td><td>8.0</td></tr>\n",
       "\t<tr><td>665-32-9167</td><td>A</td><td>Yangon   </td><td>Member</td><td>Female</td><td>Health and beauty     </td><td>36.26</td><td> 2</td><td> 3.6260</td><td> 76.1460</td><td>1/10/2019</td><td>17:15:00</td><td>Credit card</td><td> 72.52</td><td>4.761905</td><td> 3.6260</td><td>7.2</td></tr>\n",
       "\t<tr><td>692-92-5582</td><td>B</td><td>Mandalay </td><td>Member</td><td>Female</td><td>Food and beverages    </td><td>54.84</td><td> 3</td><td> 8.2260</td><td>172.7460</td><td>2/20/2019</td><td>13:27:00</td><td>Credit card</td><td>164.52</td><td>4.761905</td><td> 8.2260</td><td>5.9</td></tr>\n",
       "</tbody>\n",
       "</table>\n"
      ],
      "text/latex": [
       "A spec\\_tbl\\_df: 10 × 17\n",
       "\\begin{tabular}{lllllllllllllllll}\n",
       " Invoice\\_ID & Branch & City & Customer\\_type & Gender & Product\\_line & Unit\\_price & Quantity & Tax\\_5\\% & Total & Date & Time & Payment & cogs & gross\\_margin\\_percentage & gross\\_income & Rating\\\\\n",
       " <chr> & <chr> & <chr> & <chr> & <chr> & <chr> & <dbl> & <dbl> & <dbl> & <dbl> & <chr> & <time> & <chr> & <dbl> & <dbl> & <dbl> & <dbl>\\\\\n",
       "\\hline\n",
       "\t 750-67-8428 & A & Yangon    & Member & Female & Health and beauty      & 74.69 &  7 & 26.1415 & 548.9715 & 1/5/2019  & 13:08:00 & Ewallet     & 522.83 & 4.761905 & 26.1415 & 9.1\\\\\n",
       "\t 226-31-3081 & C & Naypyitaw & Normal & Female & Electronic accessories & 15.28 &  5 &  3.8200 &  80.2200 & 3/8/2019  & 10:29:00 & Cash        &  76.40 & 4.761905 &  3.8200 & 9.6\\\\\n",
       "\t 631-41-3108 & A & Yangon    & Normal & Male   & Home and lifestyle     & 46.33 &  7 & 16.2155 & 340.5255 & 3/3/2019  & 13:23:00 & Credit card & 324.31 & 4.761905 & 16.2155 & 7.4\\\\\n",
       "\t 123-19-1176 & A & Yangon    & Member & Male   & Health and beauty      & 58.22 &  8 & 23.2880 & 489.0480 & 1/27/2019 & 20:33:00 & Ewallet     & 465.76 & 4.761905 & 23.2880 & 8.4\\\\\n",
       "\t 373-73-7910 & A & Yangon    & Normal & Male   & Sports and travel      & 86.31 &  7 & 30.2085 & 634.3785 & 2/8/2019  & 10:37:00 & Ewallet     & 604.17 & 4.761905 & 30.2085 & 5.3\\\\\n",
       "\t 699-14-3026 & C & Naypyitaw & Normal & Male   & Electronic accessories & 85.39 &  7 & 29.8865 & 627.6165 & 3/25/2019 & 18:30:00 & Ewallet     & 597.73 & 4.761905 & 29.8865 & 4.1\\\\\n",
       "\t 355-53-5943 & A & Yangon    & Member & Female & Electronic accessories & 68.84 &  6 & 20.6520 & 433.6920 & 2/25/2019 & 14:36:00 & Ewallet     & 413.04 & 4.761905 & 20.6520 & 5.8\\\\\n",
       "\t 315-22-5665 & C & Naypyitaw & Normal & Female & Home and lifestyle     & 73.56 & 10 & 36.7800 & 772.3800 & 2/24/2019 & 11:38:00 & Ewallet     & 735.60 & 4.761905 & 36.7800 & 8.0\\\\\n",
       "\t 665-32-9167 & A & Yangon    & Member & Female & Health and beauty      & 36.26 &  2 &  3.6260 &  76.1460 & 1/10/2019 & 17:15:00 & Credit card &  72.52 & 4.761905 &  3.6260 & 7.2\\\\\n",
       "\t 692-92-5582 & B & Mandalay  & Member & Female & Food and beverages     & 54.84 &  3 &  8.2260 & 172.7460 & 2/20/2019 & 13:27:00 & Credit card & 164.52 & 4.761905 &  8.2260 & 5.9\\\\\n",
       "\\end{tabular}\n"
      ],
      "text/markdown": [
       "\n",
       "A spec_tbl_df: 10 × 17\n",
       "\n",
       "| Invoice_ID &lt;chr&gt; | Branch &lt;chr&gt; | City &lt;chr&gt; | Customer_type &lt;chr&gt; | Gender &lt;chr&gt; | Product_line &lt;chr&gt; | Unit_price &lt;dbl&gt; | Quantity &lt;dbl&gt; | Tax_5% &lt;dbl&gt; | Total &lt;dbl&gt; | Date &lt;chr&gt; | Time &lt;time&gt; | Payment &lt;chr&gt; | cogs &lt;dbl&gt; | gross_margin_percentage &lt;dbl&gt; | gross_income &lt;dbl&gt; | Rating &lt;dbl&gt; |\n",
       "|---|---|---|---|---|---|---|---|---|---|---|---|---|---|---|---|---|\n",
       "| 750-67-8428 | A | Yangon    | Member | Female | Health and beauty      | 74.69 |  7 | 26.1415 | 548.9715 | 1/5/2019  | 13:08:00 | Ewallet     | 522.83 | 4.761905 | 26.1415 | 9.1 |\n",
       "| 226-31-3081 | C | Naypyitaw | Normal | Female | Electronic accessories | 15.28 |  5 |  3.8200 |  80.2200 | 3/8/2019  | 10:29:00 | Cash        |  76.40 | 4.761905 |  3.8200 | 9.6 |\n",
       "| 631-41-3108 | A | Yangon    | Normal | Male   | Home and lifestyle     | 46.33 |  7 | 16.2155 | 340.5255 | 3/3/2019  | 13:23:00 | Credit card | 324.31 | 4.761905 | 16.2155 | 7.4 |\n",
       "| 123-19-1176 | A | Yangon    | Member | Male   | Health and beauty      | 58.22 |  8 | 23.2880 | 489.0480 | 1/27/2019 | 20:33:00 | Ewallet     | 465.76 | 4.761905 | 23.2880 | 8.4 |\n",
       "| 373-73-7910 | A | Yangon    | Normal | Male   | Sports and travel      | 86.31 |  7 | 30.2085 | 634.3785 | 2/8/2019  | 10:37:00 | Ewallet     | 604.17 | 4.761905 | 30.2085 | 5.3 |\n",
       "| 699-14-3026 | C | Naypyitaw | Normal | Male   | Electronic accessories | 85.39 |  7 | 29.8865 | 627.6165 | 3/25/2019 | 18:30:00 | Ewallet     | 597.73 | 4.761905 | 29.8865 | 4.1 |\n",
       "| 355-53-5943 | A | Yangon    | Member | Female | Electronic accessories | 68.84 |  6 | 20.6520 | 433.6920 | 2/25/2019 | 14:36:00 | Ewallet     | 413.04 | 4.761905 | 20.6520 | 5.8 |\n",
       "| 315-22-5665 | C | Naypyitaw | Normal | Female | Home and lifestyle     | 73.56 | 10 | 36.7800 | 772.3800 | 2/24/2019 | 11:38:00 | Ewallet     | 735.60 | 4.761905 | 36.7800 | 8.0 |\n",
       "| 665-32-9167 | A | Yangon    | Member | Female | Health and beauty      | 36.26 |  2 |  3.6260 |  76.1460 | 1/10/2019 | 17:15:00 | Credit card |  72.52 | 4.761905 |  3.6260 | 7.2 |\n",
       "| 692-92-5582 | B | Mandalay  | Member | Female | Food and beverages     | 54.84 |  3 |  8.2260 | 172.7460 | 2/20/2019 | 13:27:00 | Credit card | 164.52 | 4.761905 |  8.2260 | 5.9 |\n",
       "\n"
      ],
      "text/plain": [
       "   Invoice_ID  Branch City      Customer_type Gender Product_line          \n",
       "1  750-67-8428 A      Yangon    Member        Female Health and beauty     \n",
       "2  226-31-3081 C      Naypyitaw Normal        Female Electronic accessories\n",
       "3  631-41-3108 A      Yangon    Normal        Male   Home and lifestyle    \n",
       "4  123-19-1176 A      Yangon    Member        Male   Health and beauty     \n",
       "5  373-73-7910 A      Yangon    Normal        Male   Sports and travel     \n",
       "6  699-14-3026 C      Naypyitaw Normal        Male   Electronic accessories\n",
       "7  355-53-5943 A      Yangon    Member        Female Electronic accessories\n",
       "8  315-22-5665 C      Naypyitaw Normal        Female Home and lifestyle    \n",
       "9  665-32-9167 A      Yangon    Member        Female Health and beauty     \n",
       "10 692-92-5582 B      Mandalay  Member        Female Food and beverages    \n",
       "   Unit_price Quantity Tax_5%  Total    Date      Time     Payment     cogs  \n",
       "1  74.69       7       26.1415 548.9715 1/5/2019  13:08:00 Ewallet     522.83\n",
       "2  15.28       5        3.8200  80.2200 3/8/2019  10:29:00 Cash         76.40\n",
       "3  46.33       7       16.2155 340.5255 3/3/2019  13:23:00 Credit card 324.31\n",
       "4  58.22       8       23.2880 489.0480 1/27/2019 20:33:00 Ewallet     465.76\n",
       "5  86.31       7       30.2085 634.3785 2/8/2019  10:37:00 Ewallet     604.17\n",
       "6  85.39       7       29.8865 627.6165 3/25/2019 18:30:00 Ewallet     597.73\n",
       "7  68.84       6       20.6520 433.6920 2/25/2019 14:36:00 Ewallet     413.04\n",
       "8  73.56      10       36.7800 772.3800 2/24/2019 11:38:00 Ewallet     735.60\n",
       "9  36.26       2        3.6260  76.1460 1/10/2019 17:15:00 Credit card  72.52\n",
       "10 54.84       3        8.2260 172.7460 2/20/2019 13:27:00 Credit card 164.52\n",
       "   gross_margin_percentage gross_income Rating\n",
       "1  4.761905                26.1415      9.1   \n",
       "2  4.761905                 3.8200      9.6   \n",
       "3  4.761905                16.2155      7.4   \n",
       "4  4.761905                23.2880      8.4   \n",
       "5  4.761905                30.2085      5.3   \n",
       "6  4.761905                29.8865      4.1   \n",
       "7  4.761905                20.6520      5.8   \n",
       "8  4.761905                36.7800      8.0   \n",
       "9  4.761905                 3.6260      7.2   \n",
       "10 4.761905                 8.2260      5.9   "
      ]
     },
     "metadata": {},
     "output_type": "display_data"
    }
   ],
   "source": [
    "supermarket_sales <- read_csv('supermarket_sales.csv')\n",
    "    names(supermarket_sales) <- str_replace_all(names(supermarket_sales), \" \", \"_\")\n",
    "supermarket_sales%>%\n",
    "slice(n = 1:10)"
   ]
  },
  {
   "cell_type": "code",
   "execution_count": null,
   "metadata": {},
   "outputs": [],
   "source": []
  }
 ],
 "metadata": {
  "kernelspec": {
   "display_name": "R",
   "language": "R",
   "name": "ir"
  },
  "language_info": {
   "codemirror_mode": "r",
   "file_extension": ".r",
   "mimetype": "text/x-r-source",
   "name": "R",
   "pygments_lexer": "r",
   "version": "4.0.0"
  }
 },
 "nbformat": 4,
 "nbformat_minor": 4
}
