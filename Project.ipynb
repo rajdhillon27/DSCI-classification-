{
 "cells": [
  {
   "cell_type": "markdown",
   "metadata": {},
   "source": [
    "# LOYALTY TEST"
   ]
  },
  {
   "cell_type": "markdown",
   "metadata": {},
   "source": [
    "## DSCI 100 (107) Group Project"
   ]
  },
  {
   "cell_type": "markdown",
   "metadata": {},
   "source": [
    "Raj Dhillon (17571522), Diya, Oliver"
   ]
  },
  {
   "cell_type": "markdown",
   "metadata": {},
   "source": [
    "### Introduction "
   ]
  },
  {
   "cell_type": "markdown",
   "metadata": {},
   "source": [
    "The \"supermarket_sales.csv\" dataset created by Aung Pyae on kaggle approximately 3 years ago will be manipulated for the project. The set contains data regarding 3 different supermarket branches sales across a 3 month period. \n",
    "\n",
    "Supermarket are often competing with one another due to demand for food and sanitary resources. Customer loyalty is one of key ingredients in having a profitable store, thus, the goal of the project is to perform classification on sales data from branch (**A**) to predict whether a person would be a store member or not based on gender, customer satisfaction rating, and total price of invoice.\n",
    "\n",
    "The predictors used for the K-nearest neighbour classification in the project are: \n",
    "- *Gender* : The gender of the customer (1 = female, 2 = male)\n",
    "- *Rating* : The customer satisfaction rating on the overall shopping experience (scale of 1 to 10)\n",
    "- *Total* : Total price of goods including *unit_price*, *quantity*, and *Tax_5%*\n",
    "\n",
    "Variable for which class will be predicted is: \n",
    "- *Customer_type* : Type of customer, either a member or not (recorded as 'member' for members and 'normal' for non-members)\n",
    "\n",
    "Other variables from the dataset are not used as predictors since they display insignificant data with respect to classification. *Invoice ID*, *Branch*, *City*, *Date*, and *Time* are insignificant since they only help identify where the purchase was made and when. *unit_price*, *quantity* and *Tax_5%* variables are not displayed either since they are included in *total* which is an predictor. \n",
    "\n",
    "Through the following process, the predictors will be used to classify any customer either as a member or not a member (normal)."
   ]
  },
  {
   "cell_type": "markdown",
   "metadata": {},
   "source": [
    "## Method and Reasoning for Classification with K-Nearest Neighbours"
   ]
  },
  {
   "cell_type": "markdown",
   "metadata": {},
   "source": [
    "**What is classifcation with K-nearest neighbours**\n",
    "\n",
    "Label of a new observation could be predicted with KNN-Classification. This form of classification finds the nearest or most similar observations to the new label in the training set and then predicts the label's class. The K in the classification represents the number of neighbours closest to the new observation and it is commonly chosen in advance. \n",
    "\n",
    "**Why is classifcation with K-nearest neighbours chosen over KNNR (K-nearest neighbour regression)**\n",
    "\n",
    "There are two different tools that exist for statistical problems and they both utilize K-nearest neighbours (KNN). KNN is used for both classification and regression, with the difference between the two being related to how the output is calculated. KNN classification calculates it's output in a qualitative manner, however, KNN regression calculates the output in a quantitative form. Given that KNN classification calculates qualitatively, it would be appropriate to use classification since the project focuses on predicting a class not a numerical value. "
   ]
  },
  {
   "cell_type": "markdown",
   "metadata": {},
   "source": [
    "### Classification Procedure"
   ]
  },
  {
   "cell_type": "markdown",
   "metadata": {},
   "source": [
    "**Importing Libraries** \n",
    "\n",
    "The data is read into R witht the addition of various libraries. The tidyverse package is included since it contains critical functions for loading, wrangling and visualizing data. **REPR MEANING** (width and height of the graph). Tidymodels is included since it has tools for making and using models. Tidymodels is able to maintain the code to be simple, readble, and accurate. The stringr package is added since it is required in a step later on which involves converting 'spaces' between variables to 'underscores(_)'. "
   ]
  },
  {
   "cell_type": "code",
   "execution_count": 29,
   "metadata": {},
   "outputs": [],
   "source": [
    "#library() is used to load packages into R (tidyverse), (repr), (tidymodels), (dplyr), (stringr)\n",
    "\n",
    "library(tidyverse)\n",
    "library(repr)\n",
    "library(tidymodels)\n",
    "library(dplyr)\n",
    "if (!require(\"stringr\")) install.packages(\"stringr\")\n",
    "library('stringr')"
   ]
  },
  {
   "cell_type": "markdown",
   "metadata": {},
   "source": [
    "**reading the Data into R from the web** \n",
    "\n",
    "The data is read directly from the web since it is stored in the group GitHub repository. The data is read by the 'read_csv' which is from the tidyverse library. "
   ]
  },
  {
   "cell_type": "code",
   "execution_count": 30,
   "metadata": {},
   "outputs": [
    {
     "name": "stderr",
     "output_type": "stream",
     "text": [
      "Parsed with column specification:\n",
      "cols(\n",
      "  `Invoice ID` = \u001b[31mcol_character()\u001b[39m,\n",
      "  Branch = \u001b[31mcol_character()\u001b[39m,\n",
      "  City = \u001b[31mcol_character()\u001b[39m,\n",
      "  `Customer type` = \u001b[31mcol_character()\u001b[39m,\n",
      "  Gender = \u001b[31mcol_character()\u001b[39m,\n",
      "  `Product line` = \u001b[31mcol_character()\u001b[39m,\n",
      "  `Unit price` = \u001b[32mcol_double()\u001b[39m,\n",
      "  Quantity = \u001b[32mcol_double()\u001b[39m,\n",
      "  `Tax 5%` = \u001b[32mcol_double()\u001b[39m,\n",
      "  Total = \u001b[32mcol_double()\u001b[39m,\n",
      "  Date = \u001b[31mcol_character()\u001b[39m,\n",
      "  Time = \u001b[34mcol_time(format = \"\")\u001b[39m,\n",
      "  Payment = \u001b[31mcol_character()\u001b[39m,\n",
      "  cogs = \u001b[32mcol_double()\u001b[39m,\n",
      "  `gross margin percentage` = \u001b[32mcol_double()\u001b[39m,\n",
      "  `gross income` = \u001b[32mcol_double()\u001b[39m,\n",
      "  Rating = \u001b[32mcol_double()\u001b[39m\n",
      ")\n",
      "\n"
     ]
    }
   ],
   "source": [
    "#The dataset is referred to supermarket \n",
    "\n",
    "supermarket <- read_csv('supermarket_sales.csv')"
   ]
  },
  {
   "cell_type": "markdown",
   "metadata": {},
   "source": [
    "**Converting spaces ( ) into underscores (_)** \n",
    "\n",
    "Following being read, the 'str_replace_all' function is used from the stringr library since it is able to convert the spaces between dataset variables to underscores. Spaces are converted to underscores to help R recognize the variables in the set. "
   ]
  },
  {
   "cell_type": "code",
   "execution_count": 31,
   "metadata": {},
   "outputs": [],
   "source": [
    "# all of the variable names are converted to have underscores rather than spaces\n",
    "\n",
    "names(supermarket) <- str_replace_all(names(supermarket), \" \", \"_\")"
   ]
  },
  {
   "cell_type": "markdown",
   "metadata": {},
   "source": [
    "**Tidying and selecting revelant variables** \n",
    "\n",
    "Prior to selecting all of the relevant variables, the mutate function from tidyverse is used to convert *Customer_type* to a categorical term. It is converted by the use of the **as_factor** tool to create two different categories for future classification prediction.  *Gender* is also converted from a factor to a numerical value with the **as_numerical** tool to make it a readable predictor in KNN classification.\n",
    "\n"
   ]
  },
  {
   "cell_type": "code",
   "execution_count": 32,
   "metadata": {},
   "outputs": [
    {
     "data": {
      "text/html": [
       "<table>\n",
       "<caption>A tibble: 5 × 5</caption>\n",
       "<thead>\n",
       "\t<tr><th scope=col>Gender</th><th scope=col>Total</th><th scope=col>Rating</th><th scope=col>Customer_type</th><th scope=col>Branch</th></tr>\n",
       "\t<tr><th scope=col>&lt;dbl&gt;</th><th scope=col>&lt;dbl&gt;</th><th scope=col>&lt;dbl&gt;</th><th scope=col>&lt;fct&gt;</th><th scope=col>&lt;chr&gt;</th></tr>\n",
       "</thead>\n",
       "<tbody>\n",
       "\t<tr><td>1</td><td>548.9715</td><td>9.1</td><td>Member</td><td>A</td></tr>\n",
       "\t<tr><td>2</td><td>340.5255</td><td>7.4</td><td>Normal</td><td>A</td></tr>\n",
       "\t<tr><td>2</td><td>489.0480</td><td>8.4</td><td>Member</td><td>A</td></tr>\n",
       "\t<tr><td>2</td><td>634.3785</td><td>5.3</td><td>Normal</td><td>A</td></tr>\n",
       "\t<tr><td>1</td><td>433.6920</td><td>5.8</td><td>Member</td><td>A</td></tr>\n",
       "</tbody>\n",
       "</table>\n"
      ],
      "text/latex": [
       "A tibble: 5 × 5\n",
       "\\begin{tabular}{lllll}\n",
       " Gender & Total & Rating & Customer\\_type & Branch\\\\\n",
       " <dbl> & <dbl> & <dbl> & <fct> & <chr>\\\\\n",
       "\\hline\n",
       "\t 1 & 548.9715 & 9.1 & Member & A\\\\\n",
       "\t 2 & 340.5255 & 7.4 & Normal & A\\\\\n",
       "\t 2 & 489.0480 & 8.4 & Member & A\\\\\n",
       "\t 2 & 634.3785 & 5.3 & Normal & A\\\\\n",
       "\t 1 & 433.6920 & 5.8 & Member & A\\\\\n",
       "\\end{tabular}\n"
      ],
      "text/markdown": [
       "\n",
       "A tibble: 5 × 5\n",
       "\n",
       "| Gender &lt;dbl&gt; | Total &lt;dbl&gt; | Rating &lt;dbl&gt; | Customer_type &lt;fct&gt; | Branch &lt;chr&gt; |\n",
       "|---|---|---|---|---|\n",
       "| 1 | 548.9715 | 9.1 | Member | A |\n",
       "| 2 | 340.5255 | 7.4 | Normal | A |\n",
       "| 2 | 489.0480 | 8.4 | Member | A |\n",
       "| 2 | 634.3785 | 5.3 | Normal | A |\n",
       "| 1 | 433.6920 | 5.8 | Member | A |\n",
       "\n"
      ],
      "text/plain": [
       "  Gender Total    Rating Customer_type Branch\n",
       "1 1      548.9715 9.1    Member        A     \n",
       "2 2      340.5255 7.4    Normal        A     \n",
       "3 2      489.0480 8.4    Member        A     \n",
       "4 2      634.3785 5.3    Normal        A     \n",
       "5 1      433.6920 5.8    Member        A     "
      ]
     },
     "metadata": {},
     "output_type": "display_data"
    }
   ],
   "source": [
    "supermarket_sales <- supermarket%>%\n",
    "    mutate(Customer_type = as_factor(Customer_type), Gender = as.numeric(as_factor(Gender)))\n",
    "supermarket_sales_select <- supermarket_sales%>%\n",
    "                            select(Gender, Total, Rating, Customer_type, Branch) %>%\n",
    "                            filter(Branch == 'A')\n",
    "head(supermarket_sales_select, 5)"
   ]
  },
  {
   "cell_type": "markdown",
   "metadata": {},
   "source": [
    "Table 1: *first 5 rows of the data with relevant predictors: Gender, Total, and Rating*"
   ]
  },
  {
   "cell_type": "markdown",
   "metadata": {},
   "source": [
    "## Exploration and Visualization to find the best **K**"
   ]
  },
  {
   "cell_type": "markdown",
   "metadata": {},
   "source": [
    "**Splitting the data into training and testing sets with the addition of the seed**\n",
    "\n",
    "The first step of KNN classification requires splitting of the data into two distinct sets: a training and testing set. The training set is first used to build an accurate predicting algorithm while the testing set is used for predictive purposes. Seed for the project has been added and its works on ensuring that all numerical values are reproducible throughout."
   ]
  },
  {
   "cell_type": "code",
   "execution_count": 33,
   "metadata": {},
   "outputs": [],
   "source": [
    "# Randomly seperating the dataset into 70% training set and 30% testing set \n",
    "# Customer_type set as the response variable\n",
    "\n",
    "set.seed(1)\n",
    "supermarket_split <- initial_split(supermarket_sales_select, prop = 0.70, strata = Customer_type) \n",
    "supermarket_train <- training(supermarket_split)\n",
    "supermarket_test <- testing(supermarket_split)"
   ]
  },
  {
   "cell_type": "code",
   "execution_count": 34,
   "metadata": {},
   "outputs": [
    {
     "data": {
      "text/html": [
       "<table>\n",
       "<caption>A tibble: 5 × 4</caption>\n",
       "<thead>\n",
       "\t<tr><th scope=col>Customer_type</th><th scope=col>Gender</th><th scope=col>Total</th><th scope=col>Rating</th></tr>\n",
       "\t<tr><th scope=col>&lt;fct&gt;</th><th scope=col>&lt;dbl&gt;</th><th scope=col>&lt;dbl&gt;</th><th scope=col>&lt;dbl&gt;</th></tr>\n",
       "</thead>\n",
       "<tbody>\n",
       "\t<tr><td>Member</td><td>1</td><td>548.9715</td><td>9.1</td></tr>\n",
       "\t<tr><td>Normal</td><td>2</td><td>634.3785</td><td>5.3</td></tr>\n",
       "\t<tr><td>Member</td><td>1</td><td>433.6920</td><td>5.8</td></tr>\n",
       "\t<tr><td>Member</td><td>1</td><td> 76.1460</td><td>7.2</td></tr>\n",
       "\t<tr><td>Normal</td><td>1</td><td>246.4875</td><td>7.1</td></tr>\n",
       "</tbody>\n",
       "</table>\n"
      ],
      "text/latex": [
       "A tibble: 5 × 4\n",
       "\\begin{tabular}{llll}\n",
       " Customer\\_type & Gender & Total & Rating\\\\\n",
       " <fct> & <dbl> & <dbl> & <dbl>\\\\\n",
       "\\hline\n",
       "\t Member & 1 & 548.9715 & 9.1\\\\\n",
       "\t Normal & 2 & 634.3785 & 5.3\\\\\n",
       "\t Member & 1 & 433.6920 & 5.8\\\\\n",
       "\t Member & 1 &  76.1460 & 7.2\\\\\n",
       "\t Normal & 1 & 246.4875 & 7.1\\\\\n",
       "\\end{tabular}\n"
      ],
      "text/markdown": [
       "\n",
       "A tibble: 5 × 4\n",
       "\n",
       "| Customer_type &lt;fct&gt; | Gender &lt;dbl&gt; | Total &lt;dbl&gt; | Rating &lt;dbl&gt; |\n",
       "|---|---|---|---|\n",
       "| Member | 1 | 548.9715 | 9.1 |\n",
       "| Normal | 2 | 634.3785 | 5.3 |\n",
       "| Member | 1 | 433.6920 | 5.8 |\n",
       "| Member | 1 |  76.1460 | 7.2 |\n",
       "| Normal | 1 | 246.4875 | 7.1 |\n",
       "\n"
      ],
      "text/plain": [
       "  Customer_type Gender Total    Rating\n",
       "1 Member        1      548.9715 9.1   \n",
       "2 Normal        2      634.3785 5.3   \n",
       "3 Member        1      433.6920 5.8   \n",
       "4 Member        1       76.1460 7.2   \n",
       "5 Normal        1      246.4875 7.1   "
      ]
     },
     "metadata": {},
     "output_type": "display_data"
    }
   ],
   "source": [
    "supermarket_data_train <- supermarket_train%>%\n",
    "    filter(Branch == 'A')%>%\n",
    "    select(Customer_type, Gender, Total, Rating)\n",
    "\n",
    "supermarket_data_train %>%\n",
    "    head(5)"
   ]
  },
  {
   "cell_type": "markdown",
   "metadata": {},
   "source": [
    "### Production of KNN Classification Model"
   ]
  },
  {
   "cell_type": "markdown",
   "metadata": {},
   "source": [
    "**Creating the recipe** \n",
    "\n",
    "A recipe is created for the training set by the **recipe()** function from tidyverse. The recipe displays *Customer_type* to be the response variable to the chosen predictors. Due to the numerical distance between the variables, all values are scaled and centered."
   ]
  },
  {
   "cell_type": "code",
   "execution_count": 35,
   "metadata": {},
   "outputs": [],
   "source": [
    "supermarket_recipe <- recipe(Customer_type ~ Gender + Total + Rating , data = supermarket_train) %>%\n",
    "    step_scale(all_predictors()) %>%\n",
    "    step_center(all_predictors())"
   ]
  },
  {
   "cell_type": "markdown",
   "metadata": {},
   "source": [
    "**Creating validation and training sets from training data**\n",
    "\n",
    "**vfold_cv()** function from tidyverse is used to optimize the K value. The function seperated the training data into 5 v folds containing both a training and validation set. Function also ensures correct proportions of each predictor in each fold. "
   ]
  },
  {
   "cell_type": "code",
   "execution_count": 36,
   "metadata": {},
   "outputs": [],
   "source": [
    "# seperating the training set into 5 v folds\n",
    "\n",
    "supermarket_vfold <- vfold_cv(supermarket_train, v = 5, strata = Customer_type)"
   ]
  },
  {
   "cell_type": "markdown",
   "metadata": {},
   "source": [
    "**Creating a tuned classification model**\n",
    "\n",
    "A tuned model for KNN classification is made with no specific number of K. The **tune()** function instead will create a model displaying various K values with their respected accuracies."
   ]
  },
  {
   "cell_type": "code",
   "execution_count": 37,
   "metadata": {},
   "outputs": [],
   "source": [
    "# creation of a tuned KNN classification model \n",
    "\n",
    "knn_spec <- nearest_neighbor(weight_func = 'rectangular', neighbors = tune()) %>%\n",
    "       set_engine(\"kknn\") %>%\n",
    "       set_mode(\"classification\")"
   ]
  },
  {
   "cell_type": "markdown",
   "metadata": {},
   "source": [
    "**fitting detail into a workflow** \n",
    "\n",
    "All of the products from above are put to use by the **workflow()** function from tidyverse. Workflow is able to speed the process by removing the need for minor functions such as prep() and bake(). Workflow applies the classifier to the scaled and centered folds with various numbers of *K*."
   ]
  },
  {
   "cell_type": "code",
   "execution_count": 41,
   "metadata": {},
   "outputs": [
    {
     "data": {
      "text/html": [
       "<table>\n",
       "<caption>A tibble: 18 × 7</caption>\n",
       "<thead>\n",
       "\t<tr><th scope=col>neighbors</th><th scope=col>.metric</th><th scope=col>.estimator</th><th scope=col>mean</th><th scope=col>n</th><th scope=col>std_err</th><th scope=col>.config</th></tr>\n",
       "\t<tr><th scope=col>&lt;int&gt;</th><th scope=col>&lt;chr&gt;</th><th scope=col>&lt;chr&gt;</th><th scope=col>&lt;dbl&gt;</th><th scope=col>&lt;int&gt;</th><th scope=col>&lt;dbl&gt;</th><th scope=col>&lt;chr&gt;</th></tr>\n",
       "</thead>\n",
       "<tbody>\n",
       "\t<tr><td> 2</td><td>accuracy</td><td>binary</td><td>0.5397308</td><td>5</td><td>0.01044017</td><td>Model1</td></tr>\n",
       "\t<tr><td> 2</td><td>roc_auc </td><td>binary</td><td>0.5316232</td><td>5</td><td>0.01217544</td><td>Model1</td></tr>\n",
       "\t<tr><td> 3</td><td>accuracy</td><td>binary</td><td>0.5310465</td><td>5</td><td>0.01620680</td><td>Model2</td></tr>\n",
       "\t<tr><td> 3</td><td>roc_auc </td><td>binary</td><td>0.5573696</td><td>5</td><td>0.01506850</td><td>Model2</td></tr>\n",
       "\t<tr><td> 5</td><td>accuracy</td><td>binary</td><td>0.5186279</td><td>5</td><td>0.02973307</td><td>Model3</td></tr>\n",
       "\t<tr><td> 5</td><td>roc_auc </td><td>binary</td><td>0.5471522</td><td>5</td><td>0.03782702</td><td>Model3</td></tr>\n",
       "\t<tr><td> 6</td><td>accuracy</td><td>binary</td><td>0.5186279</td><td>5</td><td>0.02973307</td><td>Model4</td></tr>\n",
       "\t<tr><td> 6</td><td>roc_auc </td><td>binary</td><td>0.5591667</td><td>5</td><td>0.04088494</td><td>Model4</td></tr>\n",
       "\t<tr><td> 7</td><td>accuracy</td><td>binary</td><td>0.5400782</td><td>5</td><td>0.02533137</td><td>Model5</td></tr>\n",
       "\t<tr><td> 7</td><td>roc_auc </td><td>binary</td><td>0.5672536</td><td>5</td><td>0.02947786</td><td>Model5</td></tr>\n",
       "\t<tr><td> 9</td><td>accuracy</td><td>binary</td><td>0.5223621</td><td>5</td><td>0.02851680</td><td>Model6</td></tr>\n",
       "\t<tr><td> 9</td><td>roc_auc </td><td>binary</td><td>0.5344275</td><td>5</td><td>0.03953837</td><td>Model6</td></tr>\n",
       "\t<tr><td>11</td><td>accuracy</td><td>binary</td><td>0.5181068</td><td>5</td><td>0.03679977</td><td>Model7</td></tr>\n",
       "\t<tr><td>11</td><td>roc_auc </td><td>binary</td><td>0.5120435</td><td>5</td><td>0.04551410</td><td>Model7</td></tr>\n",
       "\t<tr><td>13</td><td>accuracy</td><td>binary</td><td>0.4884933</td><td>5</td><td>0.04533163</td><td>Model8</td></tr>\n",
       "\t<tr><td>13</td><td>roc_auc </td><td>binary</td><td>0.4934348</td><td>5</td><td>0.04623234</td><td>Model8</td></tr>\n",
       "\t<tr><td>14</td><td>accuracy</td><td>binary</td><td>0.4884933</td><td>5</td><td>0.04533163</td><td>Model9</td></tr>\n",
       "\t<tr><td>14</td><td>roc_auc </td><td>binary</td><td>0.5037319</td><td>5</td><td>0.04374465</td><td>Model9</td></tr>\n",
       "</tbody>\n",
       "</table>\n"
      ],
      "text/latex": [
       "A tibble: 18 × 7\n",
       "\\begin{tabular}{lllllll}\n",
       " neighbors & .metric & .estimator & mean & n & std\\_err & .config\\\\\n",
       " <int> & <chr> & <chr> & <dbl> & <int> & <dbl> & <chr>\\\\\n",
       "\\hline\n",
       "\t  2 & accuracy & binary & 0.5397308 & 5 & 0.01044017 & Model1\\\\\n",
       "\t  2 & roc\\_auc  & binary & 0.5316232 & 5 & 0.01217544 & Model1\\\\\n",
       "\t  3 & accuracy & binary & 0.5310465 & 5 & 0.01620680 & Model2\\\\\n",
       "\t  3 & roc\\_auc  & binary & 0.5573696 & 5 & 0.01506850 & Model2\\\\\n",
       "\t  5 & accuracy & binary & 0.5186279 & 5 & 0.02973307 & Model3\\\\\n",
       "\t  5 & roc\\_auc  & binary & 0.5471522 & 5 & 0.03782702 & Model3\\\\\n",
       "\t  6 & accuracy & binary & 0.5186279 & 5 & 0.02973307 & Model4\\\\\n",
       "\t  6 & roc\\_auc  & binary & 0.5591667 & 5 & 0.04088494 & Model4\\\\\n",
       "\t  7 & accuracy & binary & 0.5400782 & 5 & 0.02533137 & Model5\\\\\n",
       "\t  7 & roc\\_auc  & binary & 0.5672536 & 5 & 0.02947786 & Model5\\\\\n",
       "\t  9 & accuracy & binary & 0.5223621 & 5 & 0.02851680 & Model6\\\\\n",
       "\t  9 & roc\\_auc  & binary & 0.5344275 & 5 & 0.03953837 & Model6\\\\\n",
       "\t 11 & accuracy & binary & 0.5181068 & 5 & 0.03679977 & Model7\\\\\n",
       "\t 11 & roc\\_auc  & binary & 0.5120435 & 5 & 0.04551410 & Model7\\\\\n",
       "\t 13 & accuracy & binary & 0.4884933 & 5 & 0.04533163 & Model8\\\\\n",
       "\t 13 & roc\\_auc  & binary & 0.4934348 & 5 & 0.04623234 & Model8\\\\\n",
       "\t 14 & accuracy & binary & 0.4884933 & 5 & 0.04533163 & Model9\\\\\n",
       "\t 14 & roc\\_auc  & binary & 0.5037319 & 5 & 0.04374465 & Model9\\\\\n",
       "\\end{tabular}\n"
      ],
      "text/markdown": [
       "\n",
       "A tibble: 18 × 7\n",
       "\n",
       "| neighbors &lt;int&gt; | .metric &lt;chr&gt; | .estimator &lt;chr&gt; | mean &lt;dbl&gt; | n &lt;int&gt; | std_err &lt;dbl&gt; | .config &lt;chr&gt; |\n",
       "|---|---|---|---|---|---|---|\n",
       "|  2 | accuracy | binary | 0.5397308 | 5 | 0.01044017 | Model1 |\n",
       "|  2 | roc_auc  | binary | 0.5316232 | 5 | 0.01217544 | Model1 |\n",
       "|  3 | accuracy | binary | 0.5310465 | 5 | 0.01620680 | Model2 |\n",
       "|  3 | roc_auc  | binary | 0.5573696 | 5 | 0.01506850 | Model2 |\n",
       "|  5 | accuracy | binary | 0.5186279 | 5 | 0.02973307 | Model3 |\n",
       "|  5 | roc_auc  | binary | 0.5471522 | 5 | 0.03782702 | Model3 |\n",
       "|  6 | accuracy | binary | 0.5186279 | 5 | 0.02973307 | Model4 |\n",
       "|  6 | roc_auc  | binary | 0.5591667 | 5 | 0.04088494 | Model4 |\n",
       "|  7 | accuracy | binary | 0.5400782 | 5 | 0.02533137 | Model5 |\n",
       "|  7 | roc_auc  | binary | 0.5672536 | 5 | 0.02947786 | Model5 |\n",
       "|  9 | accuracy | binary | 0.5223621 | 5 | 0.02851680 | Model6 |\n",
       "|  9 | roc_auc  | binary | 0.5344275 | 5 | 0.03953837 | Model6 |\n",
       "| 11 | accuracy | binary | 0.5181068 | 5 | 0.03679977 | Model7 |\n",
       "| 11 | roc_auc  | binary | 0.5120435 | 5 | 0.04551410 | Model7 |\n",
       "| 13 | accuracy | binary | 0.4884933 | 5 | 0.04533163 | Model8 |\n",
       "| 13 | roc_auc  | binary | 0.4934348 | 5 | 0.04623234 | Model8 |\n",
       "| 14 | accuracy | binary | 0.4884933 | 5 | 0.04533163 | Model9 |\n",
       "| 14 | roc_auc  | binary | 0.5037319 | 5 | 0.04374465 | Model9 |\n",
       "\n"
      ],
      "text/plain": [
       "   neighbors .metric  .estimator mean      n std_err    .config\n",
       "1   2        accuracy binary     0.5397308 5 0.01044017 Model1 \n",
       "2   2        roc_auc  binary     0.5316232 5 0.01217544 Model1 \n",
       "3   3        accuracy binary     0.5310465 5 0.01620680 Model2 \n",
       "4   3        roc_auc  binary     0.5573696 5 0.01506850 Model2 \n",
       "5   5        accuracy binary     0.5186279 5 0.02973307 Model3 \n",
       "6   5        roc_auc  binary     0.5471522 5 0.03782702 Model3 \n",
       "7   6        accuracy binary     0.5186279 5 0.02973307 Model4 \n",
       "8   6        roc_auc  binary     0.5591667 5 0.04088494 Model4 \n",
       "9   7        accuracy binary     0.5400782 5 0.02533137 Model5 \n",
       "10  7        roc_auc  binary     0.5672536 5 0.02947786 Model5 \n",
       "11  9        accuracy binary     0.5223621 5 0.02851680 Model6 \n",
       "12  9        roc_auc  binary     0.5344275 5 0.03953837 Model6 \n",
       "13 11        accuracy binary     0.5181068 5 0.03679977 Model7 \n",
       "14 11        roc_auc  binary     0.5120435 5 0.04551410 Model7 \n",
       "15 13        accuracy binary     0.4884933 5 0.04533163 Model8 \n",
       "16 13        roc_auc  binary     0.4934348 5 0.04623234 Model8 \n",
       "17 14        accuracy binary     0.4884933 5 0.04533163 Model9 \n",
       "18 14        roc_auc  binary     0.5037319 5 0.04374465 Model9 "
      ]
     },
     "metadata": {},
     "output_type": "display_data"
    }
   ],
   "source": [
    "# calculating the accuracy of various K values\n",
    "\n",
    "supermarket_workflow <- workflow()%>%\n",
    "     add_recipe(supermarket_recipe) %>%\n",
    "     add_model(knn_spec) %>%\n",
    "     tune_grid(resamples = supermarket_vfold, grid = 10)%>%\n",
    "     collect_metrics()\n",
    "supermarket_workflow"
   ]
  },
  {
   "cell_type": "markdown",
   "metadata": {},
   "source": [
    "Table 2: *Summary of the workflow's accuracy associated with different number of neighbours (sliced tibble to decrease visual noise)*"
   ]
  },
  {
   "cell_type": "markdown",
   "metadata": {},
   "source": [
    "**Visualization of the best K**\n",
    "\n",
    "To create an optimized model with the best k value, a visualization needs to be made displaying the relationship between different number of neighbours and accuracies associated with them."
   ]
  },
  {
   "cell_type": "code",
   "execution_count": 39,
   "metadata": {},
   "outputs": [
    {
     "data": {
      "image/png": "[encoded data removed]",
      "text/plain": [
       "plot without title"
      ]
     },
     "metadata": {
      "image/png": {
       "height": 420,
       "width": 1500
      }
     },
     "output_type": "display_data"
    }
   ],
   "source": [
    "# filter() function removes the roc_auc from the .mectric variable\n",
    "# ggplot() is used to create a visualization of neighbours vs. accuracy\n",
    "options(repr.plot.width = 25, repr.plot.height = 7)\n",
    "\n",
    "supermarket_accuracies <- supermarket_workflow%>%\n",
    "    filter(.metric == 'accuracy')\n",
    " \n",
    "cross_val_plot <- ggplot(supermarket_accuracies, aes(x = neighbors, y = mean)) +\n",
    "    geom_point()+\n",
    "    geom_line()+\n",
    "    labs(x = 'Neighbors', y = 'Accuracy Estimate') + \n",
    "    ggtitle(\"Graph 1: Scatterplot displaying relationship between accuracy and number of neighbours\") +\n",
    "    theme (text = element_text (size = 20))\n",
    "cross_val_plot"
   ]
  },
  {
   "cell_type": "markdown",
   "metadata": {},
   "source": [
    "*according to both the model visualization and the tibble created by workflow, the best K value is revealed to be 7. The tibble and model reveal 7 to be the best number to yield the highest accuracy*"
   ]
  },
  {
   "cell_type": "markdown",
   "metadata": {},
   "source": [
    "## Creating an Optimized Model with Best K Value '7'\n",
    "\n",
    "addition of the K "
   ]
  },
  {
   "cell_type": "code",
   "execution_count": 40,
   "metadata": {},
   "outputs": [],
   "source": [
    "supermarket_spec <- nearest_neighbor(weight_func = \"rectangular\", neighbors = 2)%>% \n",
    "    set_engine('kknn') %>%\n",
    "    set_mode('classification')\n",
    "\n",
    "supermarket_fit <- supermarket_workflow <- workflow()%>%\n",
    "     add_recipe(supermarket_recipe) %>%\n",
    "     add_model(supermarket_spec) %>%\n",
    "     fit(data = supermarket_train)"
   ]
  },
  {
   "cell_type": "code",
   "execution_count": null,
   "metadata": {},
   "outputs": [],
   "source": []
  }
 ],
 "metadata": {
  "kernelspec": {
   "display_name": "R",
   "language": "R",
   "name": "ir"
  },
  "language_info": {
   "codemirror_mode": "r",
   "file_extension": ".r",
   "mimetype": "text/x-r-source",
   "name": "R",
   "pygments_lexer": "r",
   "version": "4.0.0"
  }
 },
 "nbformat": 4,
 "nbformat_minor": 4
}
