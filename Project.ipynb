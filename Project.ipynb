{
 "cells": [
  {
   "cell_type": "markdown",
   "metadata": {},
   "source": [
    "# LOYALTY TEST"
   ]
  },
  {
   "cell_type": "markdown",
   "metadata": {},
   "source": [
    "## DSCI 100 (107) Group Project"
   ]
  },
  {
   "cell_type": "markdown",
   "metadata": {},
   "source": [
    "Raj Dhillon (17571522), Diya, Oliver"
   ]
  },
  {
   "cell_type": "markdown",
   "metadata": {},
   "source": [
    "### Introduction "
   ]
  },
  {
   "cell_type": "markdown",
   "metadata": {},
   "source": [
    "The \"supermarket_sales.csv\" dataset created by Aung Pyae on kaggle approximately 3 years ago will be manipulated for the project. The set contains data regarding 3 different supermarket branches sales across a 3 month period. \n",
    "\n",
    "Supermarket are often competing with one another due to demand for food and sanitary resources. Customer loyalty is one of key ingredients in having a profitable store, thus, the goal of the project is to perform classification to predict whether a person would be a store member or not based on gender, customer satisfaction rating, and total price of invoice.\n",
    "\n",
    "The predictors used for the K-nearest neighbour classification in the project are: \n",
    "- *Gender* : The gender of the customer (1 = female, 2 = male)\n",
    "- *Rating* : The customer satisfaction rating on the overall shopping experience (scale of 1 to 10)\n",
    "- *Total* : Total price of goods including *unit_price*, *quantity*, and *Tax_5%*\n",
    "\n",
    "Variable for which class will be predicted is: \n",
    "- *Customer_type* : Type of customer, either a member or not (recorded as 'member' for members and 'normal' for non-members)\n",
    "\n",
    "Other variables from the dataset are not used as predictors since they display insignificant data with respect to classification. *Invoice ID*, *Branch*, *City*, *Date*, and *Time* are insignificant since they only help identify where the purchase was made and when. *unit_price*, *quantity* and *Tax_5%* variables are not displayed either since they are included in *total* which is an predictor. \n",
    "\n",
    "Through the following process, the predictors will be used to classify any customer either as a member or not a member (normal)."
   ]
  },
  {
   "cell_type": "markdown",
   "metadata": {},
   "source": [
    "### Method and Reasoning for Classification with K-Nearest Neighbours"
   ]
  },
  {
   "cell_type": "markdown",
   "metadata": {},
   "source": [
    "**What is classifcation with K-nearest neighbours**\n",
    "\n",
    "Label of a new observation could be predicted with KNN-Classification. This form of classification finds the nearest or most similar observations to the new label in the training set and then predicts the label's class. The K in the classification represents the number of neighbours closest to the new observation and it is commonly chosen in advance. \n",
    "\n",
    "**Why is classifcation with K-nearest neighbours chosen over KNNR (K-nearest neighbour regression)**\n",
    "\n",
    "There are two different tools that exist for statistical problems and they both utilize K-nearest neighbours (KNN). KNN is used for both classification and regression, with the difference between the two being related to how the output is calculated. KNN classification calculates it's output in a qualitative manner, however, KNN regression calculates the output in a quantitative form. Given that KNN classification calculates qualitatively, it would be appropriate to use classification sinc"
   ]
  },
  {
   "cell_type": "code",
   "execution_count": 4,
   "metadata": {},
   "outputs": [
    {
     "name": "stderr",
     "output_type": "stream",
     "text": [
      "── \u001b[1mAttaching packages\u001b[22m ─────────────────────────────────────── tidyverse 1.3.0 ──\n",
      "\n",
      "\u001b[32m✔\u001b[39m \u001b[34mggplot2\u001b[39m 3.3.2     \u001b[32m✔\u001b[39m \u001b[34mpurrr  \u001b[39m 0.3.4\n",
      "\u001b[32m✔\u001b[39m \u001b[34mtibble \u001b[39m 3.0.3     \u001b[32m✔\u001b[39m \u001b[34mdplyr  \u001b[39m 1.0.2\n",
      "\u001b[32m✔\u001b[39m \u001b[34mtidyr  \u001b[39m 1.1.2     \u001b[32m✔\u001b[39m \u001b[34mstringr\u001b[39m 1.4.0\n",
      "\u001b[32m✔\u001b[39m \u001b[34mreadr  \u001b[39m 1.3.1     \u001b[32m✔\u001b[39m \u001b[34mforcats\u001b[39m 0.5.0\n",
      "\n",
      "Warning message:\n",
      "“package ‘ggplot2’ was built under R version 4.0.1”\n",
      "Warning message:\n",
      "“package ‘tibble’ was built under R version 4.0.2”\n",
      "Warning message:\n",
      "“package ‘tidyr’ was built under R version 4.0.2”\n",
      "Warning message:\n",
      "“package ‘dplyr’ was built under R version 4.0.2”\n",
      "── \u001b[1mConflicts\u001b[22m ────────────────────────────────────────── tidyverse_conflicts() ──\n",
      "\u001b[31m✖\u001b[39m \u001b[34mdplyr\u001b[39m::\u001b[32mfilter()\u001b[39m masks \u001b[34mstats\u001b[39m::filter()\n",
      "\u001b[31m✖\u001b[39m \u001b[34mdplyr\u001b[39m::\u001b[32mlag()\u001b[39m    masks \u001b[34mstats\u001b[39m::lag()\n",
      "\n",
      "Warning message:\n",
      "“package ‘tidymodels’ was built under R version 4.0.2”\n",
      "── \u001b[1mAttaching packages\u001b[22m ────────────────────────────────────── tidymodels 0.1.1 ──\n",
      "\n",
      "\u001b[32m✔\u001b[39m \u001b[34mbroom    \u001b[39m 0.7.0      \u001b[32m✔\u001b[39m \u001b[34mrecipes  \u001b[39m 0.1.13\n",
      "\u001b[32m✔\u001b[39m \u001b[34mdials    \u001b[39m 0.0.9      \u001b[32m✔\u001b[39m \u001b[34mrsample  \u001b[39m 0.0.7 \n",
      "\u001b[32m✔\u001b[39m \u001b[34minfer    \u001b[39m 0.5.4      \u001b[32m✔\u001b[39m \u001b[34mtune     \u001b[39m 0.1.1 \n",
      "\u001b[32m✔\u001b[39m \u001b[34mmodeldata\u001b[39m 0.0.2      \u001b[32m✔\u001b[39m \u001b[34mworkflows\u001b[39m 0.2.0 \n",
      "\u001b[32m✔\u001b[39m \u001b[34mparsnip  \u001b[39m 0.1.3      \u001b[32m✔\u001b[39m \u001b[34myardstick\u001b[39m 0.0.7 \n",
      "\n",
      "Warning message:\n",
      "“package ‘broom’ was built under R version 4.0.2”\n",
      "Warning message:\n",
      "“package ‘dials’ was built under R version 4.0.2”\n",
      "Warning message:\n",
      "“package ‘infer’ was built under R version 4.0.3”\n",
      "Warning message:\n",
      "“package ‘modeldata’ was built under R version 4.0.1”\n",
      "Warning message:\n",
      "“package ‘parsnip’ was built under R version 4.0.2”\n",
      "Warning message:\n",
      "“package ‘recipes’ was built under R version 4.0.1”\n",
      "Warning message:\n",
      "“package ‘tune’ was built under R version 4.0.2”\n",
      "Warning message:\n",
      "“package ‘workflows’ was built under R version 4.0.2”\n",
      "Warning message:\n",
      "“package ‘yardstick’ was built under R version 4.0.2”\n",
      "── \u001b[1mConflicts\u001b[22m ───────────────────────────────────────── tidymodels_conflicts() ──\n",
      "\u001b[31m✖\u001b[39m \u001b[34mscales\u001b[39m::\u001b[32mdiscard()\u001b[39m masks \u001b[34mpurrr\u001b[39m::discard()\n",
      "\u001b[31m✖\u001b[39m \u001b[34mdplyr\u001b[39m::\u001b[32mfilter()\u001b[39m   masks \u001b[34mstats\u001b[39m::filter()\n",
      "\u001b[31m✖\u001b[39m \u001b[34mrecipes\u001b[39m::\u001b[32mfixed()\u001b[39m  masks \u001b[34mstringr\u001b[39m::fixed()\n",
      "\u001b[31m✖\u001b[39m \u001b[34mdplyr\u001b[39m::\u001b[32mlag()\u001b[39m      masks \u001b[34mstats\u001b[39m::lag()\n",
      "\u001b[31m✖\u001b[39m \u001b[34myardstick\u001b[39m::\u001b[32mspec()\u001b[39m masks \u001b[34mreadr\u001b[39m::spec()\n",
      "\u001b[31m✖\u001b[39m \u001b[34mrecipes\u001b[39m::\u001b[32mstep()\u001b[39m   masks \u001b[34mstats\u001b[39m::step()\n",
      "\n"
     ]
    }
   ],
   "source": [
    "library(tidyverse)\n",
    "library(repr)\n",
    "library(tidymodels)\n",
    "library(dplyr)\n",
    "if (!require(\"stringr\")) install.packages(\"stringr\")\n",
    "library('stringr')"
   ]
  },
  {
   "cell_type": "code",
   "execution_count": 20,
   "metadata": {},
   "outputs": [
    {
     "name": "stderr",
     "output_type": "stream",
     "text": [
      "Parsed with column specification:\n",
      "cols(\n",
      "  `Invoice ID` = \u001b[31mcol_character()\u001b[39m,\n",
      "  Branch = \u001b[31mcol_character()\u001b[39m,\n",
      "  City = \u001b[31mcol_character()\u001b[39m,\n",
      "  `Customer type` = \u001b[31mcol_character()\u001b[39m,\n",
      "  Gender = \u001b[31mcol_character()\u001b[39m,\n",
      "  `Product line` = \u001b[31mcol_character()\u001b[39m,\n",
      "  `Unit price` = \u001b[32mcol_double()\u001b[39m,\n",
      "  Quantity = \u001b[32mcol_double()\u001b[39m,\n",
      "  `Tax 5%` = \u001b[32mcol_double()\u001b[39m,\n",
      "  Total = \u001b[32mcol_double()\u001b[39m,\n",
      "  Date = \u001b[31mcol_character()\u001b[39m,\n",
      "  Time = \u001b[34mcol_time(format = \"\")\u001b[39m,\n",
      "  Payment = \u001b[31mcol_character()\u001b[39m,\n",
      "  cogs = \u001b[32mcol_double()\u001b[39m,\n",
      "  `gross margin percentage` = \u001b[32mcol_double()\u001b[39m,\n",
      "  `gross income` = \u001b[32mcol_double()\u001b[39m,\n",
      "  Rating = \u001b[32mcol_double()\u001b[39m\n",
      ")\n",
      "\n"
     ]
    },
    {
     "data": {
      "text/html": [
       "<table>\n",
       "<caption>A tibble: 5 × 3</caption>\n",
       "<thead>\n",
       "\t<tr><th scope=col>Gender</th><th scope=col>Total</th><th scope=col>Rating</th></tr>\n",
       "\t<tr><th scope=col>&lt;dbl&gt;</th><th scope=col>&lt;dbl&gt;</th><th scope=col>&lt;dbl&gt;</th></tr>\n",
       "</thead>\n",
       "<tbody>\n",
       "\t<tr><td>1</td><td>548.9715</td><td>9.1</td></tr>\n",
       "\t<tr><td>1</td><td> 80.2200</td><td>9.6</td></tr>\n",
       "\t<tr><td>2</td><td>340.5255</td><td>7.4</td></tr>\n",
       "\t<tr><td>2</td><td>489.0480</td><td>8.4</td></tr>\n",
       "\t<tr><td>2</td><td>634.3785</td><td>5.3</td></tr>\n",
       "</tbody>\n",
       "</table>\n"
      ],
      "text/latex": [
       "A tibble: 5 × 3\n",
       "\\begin{tabular}{lll}\n",
       " Gender & Total & Rating\\\\\n",
       " <dbl> & <dbl> & <dbl>\\\\\n",
       "\\hline\n",
       "\t 1 & 548.9715 & 9.1\\\\\n",
       "\t 1 &  80.2200 & 9.6\\\\\n",
       "\t 2 & 340.5255 & 7.4\\\\\n",
       "\t 2 & 489.0480 & 8.4\\\\\n",
       "\t 2 & 634.3785 & 5.3\\\\\n",
       "\\end{tabular}\n"
      ],
      "text/markdown": [
       "\n",
       "A tibble: 5 × 3\n",
       "\n",
       "| Gender &lt;dbl&gt; | Total &lt;dbl&gt; | Rating &lt;dbl&gt; |\n",
       "|---|---|---|\n",
       "| 1 | 548.9715 | 9.1 |\n",
       "| 1 |  80.2200 | 9.6 |\n",
       "| 2 | 340.5255 | 7.4 |\n",
       "| 2 | 489.0480 | 8.4 |\n",
       "| 2 | 634.3785 | 5.3 |\n",
       "\n"
      ],
      "text/plain": [
       "  Gender Total    Rating\n",
       "1 1      548.9715 9.1   \n",
       "2 1       80.2200 9.6   \n",
       "3 2      340.5255 7.4   \n",
       "4 2      489.0480 8.4   \n",
       "5 2      634.3785 5.3   "
      ]
     },
     "metadata": {},
     "output_type": "display_data"
    }
   ],
   "source": [
    "supermarket <- read_csv('supermarket_sales.csv')\n",
    "    names(supermarket) <- str_replace_all(names(supermarket), \" \", \"_\")\n",
    "\n",
    "supermarket_sales <- supermarket%>%\n",
    "    mutate(Customer_type = as_factor(Customer_type), Gender = as.numeric(as_factor(Gender)))\n",
    "supermarket_sales%>%\n",
    "    select(Gender, Total, Rating) %>%\n",
    "    slice(1:5)\n"
   ]
  },
  {
   "cell_type": "code",
   "execution_count": 19,
   "metadata": {},
   "outputs": [
    {
     "data": {
      "text/html": [
       "<table>\n",
       "<caption>A tibble: 5 × 17</caption>\n",
       "<thead>\n",
       "\t<tr><th scope=col>Invoice_ID</th><th scope=col>Branch</th><th scope=col>City</th><th scope=col>Customer_type</th><th scope=col>Gender</th><th scope=col>Product_line</th><th scope=col>Unit_price</th><th scope=col>Quantity</th><th scope=col>Tax_5%</th><th scope=col>Total</th><th scope=col>Date</th><th scope=col>Time</th><th scope=col>Payment</th><th scope=col>cogs</th><th scope=col>gross_margin_percentage</th><th scope=col>gross_income</th><th scope=col>Rating</th></tr>\n",
       "\t<tr><th scope=col>&lt;chr&gt;</th><th scope=col>&lt;chr&gt;</th><th scope=col>&lt;chr&gt;</th><th scope=col>&lt;fct&gt;</th><th scope=col>&lt;dbl&gt;</th><th scope=col>&lt;chr&gt;</th><th scope=col>&lt;dbl&gt;</th><th scope=col>&lt;dbl&gt;</th><th scope=col>&lt;dbl&gt;</th><th scope=col>&lt;dbl&gt;</th><th scope=col>&lt;chr&gt;</th><th scope=col>&lt;time&gt;</th><th scope=col>&lt;chr&gt;</th><th scope=col>&lt;dbl&gt;</th><th scope=col>&lt;dbl&gt;</th><th scope=col>&lt;dbl&gt;</th><th scope=col>&lt;dbl&gt;</th></tr>\n",
       "</thead>\n",
       "<tbody>\n",
       "\t<tr><td>226-31-3081</td><td>C</td><td>Naypyitaw</td><td>Normal</td><td>1</td><td>Electronic accessories</td><td>15.28</td><td>5</td><td> 3.8200</td><td> 80.2200</td><td>3/8/2019 </td><td>10:29:00</td><td>Cash       </td><td> 76.40</td><td>4.761905</td><td> 3.8200</td><td>9.6</td></tr>\n",
       "\t<tr><td>631-41-3108</td><td>A</td><td>Yangon   </td><td>Normal</td><td>2</td><td>Home and lifestyle    </td><td>46.33</td><td>7</td><td>16.2155</td><td>340.5255</td><td>3/3/2019 </td><td>13:23:00</td><td>Credit card</td><td>324.31</td><td>4.761905</td><td>16.2155</td><td>7.4</td></tr>\n",
       "\t<tr><td>123-19-1176</td><td>A</td><td>Yangon   </td><td>Member</td><td>2</td><td>Health and beauty     </td><td>58.22</td><td>8</td><td>23.2880</td><td>489.0480</td><td>1/27/2019</td><td>20:33:00</td><td>Ewallet    </td><td>465.76</td><td>4.761905</td><td>23.2880</td><td>8.4</td></tr>\n",
       "\t<tr><td>373-73-7910</td><td>A</td><td>Yangon   </td><td>Normal</td><td>2</td><td>Sports and travel     </td><td>86.31</td><td>7</td><td>30.2085</td><td>634.3785</td><td>2/8/2019 </td><td>10:37:00</td><td>Ewallet    </td><td>604.17</td><td>4.761905</td><td>30.2085</td><td>5.3</td></tr>\n",
       "\t<tr><td>699-14-3026</td><td>C</td><td>Naypyitaw</td><td>Normal</td><td>2</td><td>Electronic accessories</td><td>85.39</td><td>7</td><td>29.8865</td><td>627.6165</td><td>3/25/2019</td><td>18:30:00</td><td>Ewallet    </td><td>597.73</td><td>4.761905</td><td>29.8865</td><td>4.1</td></tr>\n",
       "</tbody>\n",
       "</table>\n"
      ],
      "text/latex": [
       "A tibble: 5 × 17\n",
       "\\begin{tabular}{lllllllllllllllll}\n",
       " Invoice\\_ID & Branch & City & Customer\\_type & Gender & Product\\_line & Unit\\_price & Quantity & Tax\\_5\\% & Total & Date & Time & Payment & cogs & gross\\_margin\\_percentage & gross\\_income & Rating\\\\\n",
       " <chr> & <chr> & <chr> & <fct> & <dbl> & <chr> & <dbl> & <dbl> & <dbl> & <dbl> & <chr> & <time> & <chr> & <dbl> & <dbl> & <dbl> & <dbl>\\\\\n",
       "\\hline\n",
       "\t 226-31-3081 & C & Naypyitaw & Normal & 1 & Electronic accessories & 15.28 & 5 &  3.8200 &  80.2200 & 3/8/2019  & 10:29:00 & Cash        &  76.40 & 4.761905 &  3.8200 & 9.6\\\\\n",
       "\t 631-41-3108 & A & Yangon    & Normal & 2 & Home and lifestyle     & 46.33 & 7 & 16.2155 & 340.5255 & 3/3/2019  & 13:23:00 & Credit card & 324.31 & 4.761905 & 16.2155 & 7.4\\\\\n",
       "\t 123-19-1176 & A & Yangon    & Member & 2 & Health and beauty      & 58.22 & 8 & 23.2880 & 489.0480 & 1/27/2019 & 20:33:00 & Ewallet     & 465.76 & 4.761905 & 23.2880 & 8.4\\\\\n",
       "\t 373-73-7910 & A & Yangon    & Normal & 2 & Sports and travel      & 86.31 & 7 & 30.2085 & 634.3785 & 2/8/2019  & 10:37:00 & Ewallet     & 604.17 & 4.761905 & 30.2085 & 5.3\\\\\n",
       "\t 699-14-3026 & C & Naypyitaw & Normal & 2 & Electronic accessories & 85.39 & 7 & 29.8865 & 627.6165 & 3/25/2019 & 18:30:00 & Ewallet     & 597.73 & 4.761905 & 29.8865 & 4.1\\\\\n",
       "\\end{tabular}\n"
      ],
      "text/markdown": [
       "\n",
       "A tibble: 5 × 17\n",
       "\n",
       "| Invoice_ID &lt;chr&gt; | Branch &lt;chr&gt; | City &lt;chr&gt; | Customer_type &lt;fct&gt; | Gender &lt;dbl&gt; | Product_line &lt;chr&gt; | Unit_price &lt;dbl&gt; | Quantity &lt;dbl&gt; | Tax_5% &lt;dbl&gt; | Total &lt;dbl&gt; | Date &lt;chr&gt; | Time &lt;time&gt; | Payment &lt;chr&gt; | cogs &lt;dbl&gt; | gross_margin_percentage &lt;dbl&gt; | gross_income &lt;dbl&gt; | Rating &lt;dbl&gt; |\n",
       "|---|---|---|---|---|---|---|---|---|---|---|---|---|---|---|---|---|\n",
       "| 226-31-3081 | C | Naypyitaw | Normal | 1 | Electronic accessories | 15.28 | 5 |  3.8200 |  80.2200 | 3/8/2019  | 10:29:00 | Cash        |  76.40 | 4.761905 |  3.8200 | 9.6 |\n",
       "| 631-41-3108 | A | Yangon    | Normal | 2 | Home and lifestyle     | 46.33 | 7 | 16.2155 | 340.5255 | 3/3/2019  | 13:23:00 | Credit card | 324.31 | 4.761905 | 16.2155 | 7.4 |\n",
       "| 123-19-1176 | A | Yangon    | Member | 2 | Health and beauty      | 58.22 | 8 | 23.2880 | 489.0480 | 1/27/2019 | 20:33:00 | Ewallet     | 465.76 | 4.761905 | 23.2880 | 8.4 |\n",
       "| 373-73-7910 | A | Yangon    | Normal | 2 | Sports and travel      | 86.31 | 7 | 30.2085 | 634.3785 | 2/8/2019  | 10:37:00 | Ewallet     | 604.17 | 4.761905 | 30.2085 | 5.3 |\n",
       "| 699-14-3026 | C | Naypyitaw | Normal | 2 | Electronic accessories | 85.39 | 7 | 29.8865 | 627.6165 | 3/25/2019 | 18:30:00 | Ewallet     | 597.73 | 4.761905 | 29.8865 | 4.1 |\n",
       "\n"
      ],
      "text/plain": [
       "  Invoice_ID  Branch City      Customer_type Gender Product_line          \n",
       "1 226-31-3081 C      Naypyitaw Normal        1      Electronic accessories\n",
       "2 631-41-3108 A      Yangon    Normal        2      Home and lifestyle    \n",
       "3 123-19-1176 A      Yangon    Member        2      Health and beauty     \n",
       "4 373-73-7910 A      Yangon    Normal        2      Sports and travel     \n",
       "5 699-14-3026 C      Naypyitaw Normal        2      Electronic accessories\n",
       "  Unit_price Quantity Tax_5%  Total    Date      Time     Payment     cogs  \n",
       "1 15.28      5         3.8200  80.2200 3/8/2019  10:29:00 Cash         76.40\n",
       "2 46.33      7        16.2155 340.5255 3/3/2019  13:23:00 Credit card 324.31\n",
       "3 58.22      8        23.2880 489.0480 1/27/2019 20:33:00 Ewallet     465.76\n",
       "4 86.31      7        30.2085 634.3785 2/8/2019  10:37:00 Ewallet     604.17\n",
       "5 85.39      7        29.8865 627.6165 3/25/2019 18:30:00 Ewallet     597.73\n",
       "  gross_margin_percentage gross_income Rating\n",
       "1 4.761905                 3.8200      9.6   \n",
       "2 4.761905                16.2155      7.4   \n",
       "3 4.761905                23.2880      8.4   \n",
       "4 4.761905                30.2085      5.3   \n",
       "5 4.761905                29.8865      4.1   "
      ]
     },
     "metadata": {},
     "output_type": "display_data"
    }
   ],
   "source": [
    "set.seed(1)\n",
    "supermarket_split <- initial_split(supermarket_sales, prop = 0.70, strata = Customer_type) \n",
    "supermarket_train <- training(supermarket_split)\n",
    "supermarket_test <- testing(supermarket_split)\n",
    "\n",
    "supermarket_train%>%\n",
    "    slice(1:5)"
   ]
  },
  {
   "cell_type": "code",
   "execution_count": 6,
   "metadata": {},
   "outputs": [
    {
     "data": {
      "text/plain": [
       "Data Recipe\n",
       "\n",
       "Inputs:\n",
       "\n",
       "      role #variables\n",
       "   outcome          1\n",
       " predictor          3\n",
       "\n",
       "Operations:\n",
       "\n",
       "Scaling for all_predictors()\n",
       "Centering for all_predictors()"
      ]
     },
     "metadata": {},
     "output_type": "display_data"
    }
   ],
   "source": [
    "supermarket_recipe <- recipe(Customer_type ~ Gender + Total + Rating , data = supermarket_train) %>%\n",
    "    step_scale(all_predictors()) %>%\n",
    "    step_center(all_predictors())\n",
    "supermarket_recipe"
   ]
  },
  {
   "cell_type": "code",
   "execution_count": 7,
   "metadata": {},
   "outputs": [],
   "source": [
    "supermarket_vfold <- vfold_cv(supermarket_train, v = 5, strata = Customer_type)\n"
   ]
  },
  {
   "cell_type": "code",
   "execution_count": 8,
   "metadata": {},
   "outputs": [
    {
     "data": {
      "text/plain": [
       "K-Nearest Neighbor Model Specification (classification)\n",
       "\n",
       "Main Arguments:\n",
       "  neighbors = tune()\n",
       "  weight_func = rectangular\n",
       "\n",
       "Computational engine: kknn \n"
      ]
     },
     "metadata": {},
     "output_type": "display_data"
    }
   ],
   "source": [
    "knn_spec <- nearest_neighbor(weight_func = 'rectangular', neighbors = tune()) %>%\n",
    "       set_engine(\"kknn\") %>%\n",
    "       set_mode(\"classification\")\n",
    "knn_spec"
   ]
  },
  {
   "cell_type": "code",
   "execution_count": 10,
   "metadata": {},
   "outputs": [
    {
     "data": {
      "text/html": [
       "<table>\n",
       "<caption>A tibble: 18 × 7</caption>\n",
       "<thead>\n",
       "\t<tr><th scope=col>neighbors</th><th scope=col>.metric</th><th scope=col>.estimator</th><th scope=col>mean</th><th scope=col>n</th><th scope=col>std_err</th><th scope=col>.config</th></tr>\n",
       "\t<tr><th scope=col>&lt;int&gt;</th><th scope=col>&lt;chr&gt;</th><th scope=col>&lt;chr&gt;</th><th scope=col>&lt;dbl&gt;</th><th scope=col>&lt;int&gt;</th><th scope=col>&lt;dbl&gt;</th><th scope=col>&lt;chr&gt;</th></tr>\n",
       "</thead>\n",
       "<tbody>\n",
       "\t<tr><td> 1</td><td>accuracy</td><td>binary</td><td>0.4864539</td><td>5</td><td>0.017726592</td><td>Model1</td></tr>\n",
       "\t<tr><td> 1</td><td>roc_auc </td><td>binary</td><td>0.4864789</td><td>5</td><td>0.017725136</td><td>Model1</td></tr>\n",
       "\t<tr><td> 2</td><td>accuracy</td><td>binary</td><td>0.4864539</td><td>5</td><td>0.017726592</td><td>Model2</td></tr>\n",
       "\t<tr><td> 2</td><td>roc_auc </td><td>binary</td><td>0.4677002</td><td>5</td><td>0.010096807</td><td>Model2</td></tr>\n",
       "\t<tr><td> 4</td><td>accuracy</td><td>binary</td><td>0.4693516</td><td>5</td><td>0.007592770</td><td>Model3</td></tr>\n",
       "\t<tr><td> 4</td><td>roc_auc </td><td>binary</td><td>0.4479874</td><td>5</td><td>0.007015656</td><td>Model3</td></tr>\n",
       "\t<tr><td> 6</td><td>accuracy</td><td>binary</td><td>0.4664843</td><td>5</td><td>0.008412031</td><td>Model4</td></tr>\n",
       "\t<tr><td> 6</td><td>roc_auc </td><td>binary</td><td>0.4584432</td><td>5</td><td>0.015858871</td><td>Model4</td></tr>\n",
       "\t<tr><td> 7</td><td>accuracy</td><td>binary</td><td>0.4821682</td><td>5</td><td>0.006585438</td><td>Model5</td></tr>\n",
       "\t<tr><td> 7</td><td>roc_auc </td><td>binary</td><td>0.4689307</td><td>5</td><td>0.012179485</td><td>Model5</td></tr>\n",
       "\t<tr><td> 9</td><td>accuracy</td><td>binary</td><td>0.4650659</td><td>5</td><td>0.010601090</td><td>Model6</td></tr>\n",
       "\t<tr><td> 9</td><td>roc_auc </td><td>binary</td><td>0.4502670</td><td>5</td><td>0.016784299</td><td>Model6</td></tr>\n",
       "\t<tr><td>11</td><td>accuracy</td><td>binary</td><td>0.4650557</td><td>5</td><td>0.020149594</td><td>Model7</td></tr>\n",
       "\t<tr><td>11</td><td>roc_auc </td><td>binary</td><td>0.4431868</td><td>5</td><td>0.028400746</td><td>Model7</td></tr>\n",
       "\t<tr><td>12</td><td>accuracy</td><td>binary</td><td>0.4650557</td><td>5</td><td>0.020149594</td><td>Model8</td></tr>\n",
       "\t<tr><td>12</td><td>roc_auc </td><td>binary</td><td>0.4468350</td><td>5</td><td>0.025582894</td><td>Model8</td></tr>\n",
       "\t<tr><td>15</td><td>accuracy</td><td>binary</td><td>0.4664640</td><td>5</td><td>0.016277259</td><td>Model9</td></tr>\n",
       "\t<tr><td>15</td><td>roc_auc </td><td>binary</td><td>0.4353648</td><td>5</td><td>0.018613512</td><td>Model9</td></tr>\n",
       "</tbody>\n",
       "</table>\n"
      ],
      "text/latex": [
       "A tibble: 18 × 7\n",
       "\\begin{tabular}{lllllll}\n",
       " neighbors & .metric & .estimator & mean & n & std\\_err & .config\\\\\n",
       " <int> & <chr> & <chr> & <dbl> & <int> & <dbl> & <chr>\\\\\n",
       "\\hline\n",
       "\t  1 & accuracy & binary & 0.4864539 & 5 & 0.017726592 & Model1\\\\\n",
       "\t  1 & roc\\_auc  & binary & 0.4864789 & 5 & 0.017725136 & Model1\\\\\n",
       "\t  2 & accuracy & binary & 0.4864539 & 5 & 0.017726592 & Model2\\\\\n",
       "\t  2 & roc\\_auc  & binary & 0.4677002 & 5 & 0.010096807 & Model2\\\\\n",
       "\t  4 & accuracy & binary & 0.4693516 & 5 & 0.007592770 & Model3\\\\\n",
       "\t  4 & roc\\_auc  & binary & 0.4479874 & 5 & 0.007015656 & Model3\\\\\n",
       "\t  6 & accuracy & binary & 0.4664843 & 5 & 0.008412031 & Model4\\\\\n",
       "\t  6 & roc\\_auc  & binary & 0.4584432 & 5 & 0.015858871 & Model4\\\\\n",
       "\t  7 & accuracy & binary & 0.4821682 & 5 & 0.006585438 & Model5\\\\\n",
       "\t  7 & roc\\_auc  & binary & 0.4689307 & 5 & 0.012179485 & Model5\\\\\n",
       "\t  9 & accuracy & binary & 0.4650659 & 5 & 0.010601090 & Model6\\\\\n",
       "\t  9 & roc\\_auc  & binary & 0.4502670 & 5 & 0.016784299 & Model6\\\\\n",
       "\t 11 & accuracy & binary & 0.4650557 & 5 & 0.020149594 & Model7\\\\\n",
       "\t 11 & roc\\_auc  & binary & 0.4431868 & 5 & 0.028400746 & Model7\\\\\n",
       "\t 12 & accuracy & binary & 0.4650557 & 5 & 0.020149594 & Model8\\\\\n",
       "\t 12 & roc\\_auc  & binary & 0.4468350 & 5 & 0.025582894 & Model8\\\\\n",
       "\t 15 & accuracy & binary & 0.4664640 & 5 & 0.016277259 & Model9\\\\\n",
       "\t 15 & roc\\_auc  & binary & 0.4353648 & 5 & 0.018613512 & Model9\\\\\n",
       "\\end{tabular}\n"
      ],
      "text/markdown": [
       "\n",
       "A tibble: 18 × 7\n",
       "\n",
       "| neighbors &lt;int&gt; | .metric &lt;chr&gt; | .estimator &lt;chr&gt; | mean &lt;dbl&gt; | n &lt;int&gt; | std_err &lt;dbl&gt; | .config &lt;chr&gt; |\n",
       "|---|---|---|---|---|---|---|\n",
       "|  1 | accuracy | binary | 0.4864539 | 5 | 0.017726592 | Model1 |\n",
       "|  1 | roc_auc  | binary | 0.4864789 | 5 | 0.017725136 | Model1 |\n",
       "|  2 | accuracy | binary | 0.4864539 | 5 | 0.017726592 | Model2 |\n",
       "|  2 | roc_auc  | binary | 0.4677002 | 5 | 0.010096807 | Model2 |\n",
       "|  4 | accuracy | binary | 0.4693516 | 5 | 0.007592770 | Model3 |\n",
       "|  4 | roc_auc  | binary | 0.4479874 | 5 | 0.007015656 | Model3 |\n",
       "|  6 | accuracy | binary | 0.4664843 | 5 | 0.008412031 | Model4 |\n",
       "|  6 | roc_auc  | binary | 0.4584432 | 5 | 0.015858871 | Model4 |\n",
       "|  7 | accuracy | binary | 0.4821682 | 5 | 0.006585438 | Model5 |\n",
       "|  7 | roc_auc  | binary | 0.4689307 | 5 | 0.012179485 | Model5 |\n",
       "|  9 | accuracy | binary | 0.4650659 | 5 | 0.010601090 | Model6 |\n",
       "|  9 | roc_auc  | binary | 0.4502670 | 5 | 0.016784299 | Model6 |\n",
       "| 11 | accuracy | binary | 0.4650557 | 5 | 0.020149594 | Model7 |\n",
       "| 11 | roc_auc  | binary | 0.4431868 | 5 | 0.028400746 | Model7 |\n",
       "| 12 | accuracy | binary | 0.4650557 | 5 | 0.020149594 | Model8 |\n",
       "| 12 | roc_auc  | binary | 0.4468350 | 5 | 0.025582894 | Model8 |\n",
       "| 15 | accuracy | binary | 0.4664640 | 5 | 0.016277259 | Model9 |\n",
       "| 15 | roc_auc  | binary | 0.4353648 | 5 | 0.018613512 | Model9 |\n",
       "\n"
      ],
      "text/plain": [
       "   neighbors .metric  .estimator mean      n std_err     .config\n",
       "1   1        accuracy binary     0.4864539 5 0.017726592 Model1 \n",
       "2   1        roc_auc  binary     0.4864789 5 0.017725136 Model1 \n",
       "3   2        accuracy binary     0.4864539 5 0.017726592 Model2 \n",
       "4   2        roc_auc  binary     0.4677002 5 0.010096807 Model2 \n",
       "5   4        accuracy binary     0.4693516 5 0.007592770 Model3 \n",
       "6   4        roc_auc  binary     0.4479874 5 0.007015656 Model3 \n",
       "7   6        accuracy binary     0.4664843 5 0.008412031 Model4 \n",
       "8   6        roc_auc  binary     0.4584432 5 0.015858871 Model4 \n",
       "9   7        accuracy binary     0.4821682 5 0.006585438 Model5 \n",
       "10  7        roc_auc  binary     0.4689307 5 0.012179485 Model5 \n",
       "11  9        accuracy binary     0.4650659 5 0.010601090 Model6 \n",
       "12  9        roc_auc  binary     0.4502670 5 0.016784299 Model6 \n",
       "13 11        accuracy binary     0.4650557 5 0.020149594 Model7 \n",
       "14 11        roc_auc  binary     0.4431868 5 0.028400746 Model7 \n",
       "15 12        accuracy binary     0.4650557 5 0.020149594 Model8 \n",
       "16 12        roc_auc  binary     0.4468350 5 0.025582894 Model8 \n",
       "17 15        accuracy binary     0.4664640 5 0.016277259 Model9 \n",
       "18 15        roc_auc  binary     0.4353648 5 0.018613512 Model9 "
      ]
     },
     "metadata": {},
     "output_type": "display_data"
    }
   ],
   "source": [
    "supermarket_workflow <- workflow()%>%\n",
    "     add_recipe(supermarket_recipe) %>%\n",
    "     add_model(knn_spec) %>%\n",
    "     tune_grid(resamples = supermarket_vfold, grid = 10)%>%\n",
    "     collect_metrics()\n",
    "supermarket_workflow"
   ]
  },
  {
   "cell_type": "code",
   "execution_count": 11,
   "metadata": {},
   "outputs": [
    {
     "data": {
      "image/png": "[encoded data removed]",
      "text/plain": [
       "plot without title"
      ]
     },
     "metadata": {
      "image/png": {
       "height": 420,
       "width": 420
      }
     },
     "output_type": "display_data"
    }
   ],
   "source": [
    "supermarket_accuracies <- supermarket_workflow%>%\n",
    "    filter(.metric == 'accuracy')\n",
    " \n",
    "cross_val_plot <- ggplot(supermarket_accuracies, aes(x = neighbors, y = mean)) +\n",
    "    geom_point()+\n",
    "    geom_line()+\n",
    "    labs(x = 'Neighbors', y = 'Accuracy Estimate')\n",
    "\n",
    "cross_val_plot\n",
    "\n"
   ]
  },
  {
   "cell_type": "code",
   "execution_count": 14,
   "metadata": {},
   "outputs": [
    {
     "data": {
      "text/plain": [
       "══ Workflow [trained] ══════════════════════════════════════════════════════════\n",
       "\u001b[3mPreprocessor:\u001b[23m Recipe\n",
       "\u001b[3mModel:\u001b[23m nearest_neighbor()\n",
       "\n",
       "── Preprocessor ────────────────────────────────────────────────────────────────\n",
       "2 Recipe Steps\n",
       "\n",
       "● step_scale()\n",
       "● step_center()\n",
       "\n",
       "── Model ───────────────────────────────────────────────────────────────────────\n",
       "\n",
       "Call:\n",
       "kknn::train.kknn(formula = ..y ~ ., data = data, ks = ~2, kernel = ~\"rectangular\")\n",
       "\n",
       "Type of response variable: nominal\n",
       "Minimal misclassification: 0.5121255\n",
       "Best kernel: rectangular\n",
       "Best k: 2"
      ]
     },
     "metadata": {},
     "output_type": "display_data"
    }
   ],
   "source": [
    "supermarket_spec <- nearest_neighbor(weight_func = \"rectangular\", neighbors = 2)%>% \n",
    "    set_engine('kknn') %>%\n",
    "    set_mode('classification')\n",
    "\n",
    "supermarket_fit <- supermarket_workflow <- workflow()%>%\n",
    "     add_recipe(supermarket_recipe) %>%\n",
    "     add_model(supermarket_spec) %>%\n",
    "     fit(data = supermarket_train)\n",
    "supermarket_fit"
   ]
  },
  {
   "cell_type": "code",
   "execution_count": null,
   "metadata": {},
   "outputs": [],
   "source": []
  },
  {
   "cell_type": "code",
   "execution_count": null,
   "metadata": {},
   "outputs": [],
   "source": []
  }
 ],
 "metadata": {
  "kernelspec": {
   "display_name": "R",
   "language": "R",
   "name": "ir"
  },
  "language_info": {
   "codemirror_mode": "r",
   "file_extension": ".r",
   "mimetype": "text/x-r-source",
   "name": "R",
   "pygments_lexer": "r",
   "version": "4.0.0"
  }
 },
 "nbformat": 4,
 "nbformat_minor": 4
}
