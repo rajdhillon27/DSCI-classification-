{
 "cells": [
  {
   "cell_type": "code",
   "execution_count": 2,
   "metadata": {},
   "outputs": [
    {
     "name": "stderr",
     "output_type": "stream",
     "text": [
      "── \u001b[1mAttaching packages\u001b[22m ─────────────────────────────────────── tidyverse 1.3.0 ──\n",
      "\n",
      "\u001b[32m✔\u001b[39m \u001b[34mggplot2\u001b[39m 3.3.2     \u001b[32m✔\u001b[39m \u001b[34mpurrr  \u001b[39m 0.3.4\n",
      "\u001b[32m✔\u001b[39m \u001b[34mtibble \u001b[39m 3.0.3     \u001b[32m✔\u001b[39m \u001b[34mdplyr  \u001b[39m 1.0.2\n",
      "\u001b[32m✔\u001b[39m \u001b[34mtidyr  \u001b[39m 1.1.2     \u001b[32m✔\u001b[39m \u001b[34mstringr\u001b[39m 1.4.0\n",
      "\u001b[32m✔\u001b[39m \u001b[34mreadr  \u001b[39m 1.3.1     \u001b[32m✔\u001b[39m \u001b[34mforcats\u001b[39m 0.5.0\n",
      "\n",
      "Warning message:\n",
      "“package ‘ggplot2’ was built under R version 4.0.1”\n",
      "Warning message:\n",
      "“package ‘tibble’ was built under R version 4.0.2”\n",
      "Warning message:\n",
      "“package ‘tidyr’ was built under R version 4.0.2”\n",
      "Warning message:\n",
      "“package ‘dplyr’ was built under R version 4.0.2”\n",
      "── \u001b[1mConflicts\u001b[22m ────────────────────────────────────────── tidyverse_conflicts() ──\n",
      "\u001b[31m✖\u001b[39m \u001b[34mdplyr\u001b[39m::\u001b[32mfilter()\u001b[39m masks \u001b[34mstats\u001b[39m::filter()\n",
      "\u001b[31m✖\u001b[39m \u001b[34mdplyr\u001b[39m::\u001b[32mlag()\u001b[39m    masks \u001b[34mstats\u001b[39m::lag()\n",
      "\n",
      "Warning message:\n",
      "“package ‘tidymodels’ was built under R version 4.0.2”\n",
      "── \u001b[1mAttaching packages\u001b[22m ────────────────────────────────────── tidymodels 0.1.1 ──\n",
      "\n",
      "\u001b[32m✔\u001b[39m \u001b[34mbroom    \u001b[39m 0.7.0      \u001b[32m✔\u001b[39m \u001b[34mrecipes  \u001b[39m 0.1.13\n",
      "\u001b[32m✔\u001b[39m \u001b[34mdials    \u001b[39m 0.0.9      \u001b[32m✔\u001b[39m \u001b[34mrsample  \u001b[39m 0.0.7 \n",
      "\u001b[32m✔\u001b[39m \u001b[34minfer    \u001b[39m 0.5.4      \u001b[32m✔\u001b[39m \u001b[34mtune     \u001b[39m 0.1.1 \n",
      "\u001b[32m✔\u001b[39m \u001b[34mmodeldata\u001b[39m 0.0.2      \u001b[32m✔\u001b[39m \u001b[34mworkflows\u001b[39m 0.2.0 \n",
      "\u001b[32m✔\u001b[39m \u001b[34mparsnip  \u001b[39m 0.1.3      \u001b[32m✔\u001b[39m \u001b[34myardstick\u001b[39m 0.0.7 \n",
      "\n",
      "Warning message:\n",
      "“package ‘broom’ was built under R version 4.0.2”\n",
      "Warning message:\n",
      "“package ‘dials’ was built under R version 4.0.2”\n",
      "Warning message:\n",
      "“package ‘infer’ was built under R version 4.0.3”\n",
      "Warning message:\n",
      "“package ‘modeldata’ was built under R version 4.0.1”\n",
      "Warning message:\n",
      "“package ‘parsnip’ was built under R version 4.0.2”\n",
      "Warning message:\n",
      "“package ‘recipes’ was built under R version 4.0.1”\n",
      "Warning message:\n",
      "“package ‘tune’ was built under R version 4.0.2”\n",
      "Warning message:\n",
      "“package ‘workflows’ was built under R version 4.0.2”\n",
      "Warning message:\n",
      "“package ‘yardstick’ was built under R version 4.0.2”\n",
      "── \u001b[1mConflicts\u001b[22m ───────────────────────────────────────── tidymodels_conflicts() ──\n",
      "\u001b[31m✖\u001b[39m \u001b[34mscales\u001b[39m::\u001b[32mdiscard()\u001b[39m masks \u001b[34mpurrr\u001b[39m::discard()\n",
      "\u001b[31m✖\u001b[39m \u001b[34mdplyr\u001b[39m::\u001b[32mfilter()\u001b[39m   masks \u001b[34mstats\u001b[39m::filter()\n",
      "\u001b[31m✖\u001b[39m \u001b[34mrecipes\u001b[39m::\u001b[32mfixed()\u001b[39m  masks \u001b[34mstringr\u001b[39m::fixed()\n",
      "\u001b[31m✖\u001b[39m \u001b[34mdplyr\u001b[39m::\u001b[32mlag()\u001b[39m      masks \u001b[34mstats\u001b[39m::lag()\n",
      "\u001b[31m✖\u001b[39m \u001b[34myardstick\u001b[39m::\u001b[32mspec()\u001b[39m masks \u001b[34mreadr\u001b[39m::spec()\n",
      "\u001b[31m✖\u001b[39m \u001b[34mrecipes\u001b[39m::\u001b[32mstep()\u001b[39m   masks \u001b[34mstats\u001b[39m::step()\n",
      "\n"
     ]
    }
   ],
   "source": [
    "library(tidyverse)\n",
    "library(repr)\n",
    "library(tidymodels)\n",
    "library(dplyr)\n",
    "if (!require(\"stringr\")) install.packages(\"stringr\")\n",
    "library('stringr')"
   ]
  },
  {
   "cell_type": "code",
   "execution_count": 3,
   "metadata": {},
   "outputs": [
    {
     "name": "stderr",
     "output_type": "stream",
     "text": [
      "Parsed with column specification:\n",
      "cols(\n",
      "  `Invoice ID` = \u001b[31mcol_character()\u001b[39m,\n",
      "  Branch = \u001b[31mcol_character()\u001b[39m,\n",
      "  City = \u001b[31mcol_character()\u001b[39m,\n",
      "  `Customer type` = \u001b[31mcol_character()\u001b[39m,\n",
      "  Gender = \u001b[31mcol_character()\u001b[39m,\n",
      "  `Product line` = \u001b[31mcol_character()\u001b[39m,\n",
      "  `Unit price` = \u001b[32mcol_double()\u001b[39m,\n",
      "  Quantity = \u001b[32mcol_double()\u001b[39m,\n",
      "  `Tax 5%` = \u001b[32mcol_double()\u001b[39m,\n",
      "  Total = \u001b[32mcol_double()\u001b[39m,\n",
      "  Date = \u001b[31mcol_character()\u001b[39m,\n",
      "  Time = \u001b[34mcol_time(format = \"\")\u001b[39m,\n",
      "  Payment = \u001b[31mcol_character()\u001b[39m,\n",
      "  cogs = \u001b[32mcol_double()\u001b[39m,\n",
      "  `gross margin percentage` = \u001b[32mcol_double()\u001b[39m,\n",
      "  `gross income` = \u001b[32mcol_double()\u001b[39m,\n",
      "  Rating = \u001b[32mcol_double()\u001b[39m\n",
      ")\n",
      "\n"
     ]
    },
    {
     "data": {
      "text/html": [
       "<table>\n",
       "<caption>A spec_tbl_df: 5 × 17</caption>\n",
       "<thead>\n",
       "\t<tr><th scope=col>Invoice_ID</th><th scope=col>Branch</th><th scope=col>City</th><th scope=col>Customer_type</th><th scope=col>Gender</th><th scope=col>Product_line</th><th scope=col>Unit_price</th><th scope=col>Quantity</th><th scope=col>Tax_5%</th><th scope=col>Total</th><th scope=col>Date</th><th scope=col>Time</th><th scope=col>Payment</th><th scope=col>cogs</th><th scope=col>gross_margin_percentage</th><th scope=col>gross_income</th><th scope=col>Rating</th></tr>\n",
       "\t<tr><th scope=col>&lt;chr&gt;</th><th scope=col>&lt;chr&gt;</th><th scope=col>&lt;chr&gt;</th><th scope=col>&lt;fct&gt;</th><th scope=col>&lt;dbl&gt;</th><th scope=col>&lt;chr&gt;</th><th scope=col>&lt;dbl&gt;</th><th scope=col>&lt;dbl&gt;</th><th scope=col>&lt;dbl&gt;</th><th scope=col>&lt;dbl&gt;</th><th scope=col>&lt;chr&gt;</th><th scope=col>&lt;time&gt;</th><th scope=col>&lt;chr&gt;</th><th scope=col>&lt;dbl&gt;</th><th scope=col>&lt;dbl&gt;</th><th scope=col>&lt;dbl&gt;</th><th scope=col>&lt;dbl&gt;</th></tr>\n",
       "</thead>\n",
       "<tbody>\n",
       "\t<tr><td>750-67-8428</td><td>A</td><td>Yangon   </td><td>Member</td><td>1</td><td>Health and beauty     </td><td>74.69</td><td>7</td><td>26.1415</td><td>548.9715</td><td>1/5/2019 </td><td>13:08:00</td><td>Ewallet    </td><td>522.83</td><td>4.761905</td><td>26.1415</td><td>9.1</td></tr>\n",
       "\t<tr><td>226-31-3081</td><td>C</td><td>Naypyitaw</td><td>Normal</td><td>1</td><td>Electronic accessories</td><td>15.28</td><td>5</td><td> 3.8200</td><td> 80.2200</td><td>3/8/2019 </td><td>10:29:00</td><td>Cash       </td><td> 76.40</td><td>4.761905</td><td> 3.8200</td><td>9.6</td></tr>\n",
       "\t<tr><td>631-41-3108</td><td>A</td><td>Yangon   </td><td>Normal</td><td>2</td><td>Home and lifestyle    </td><td>46.33</td><td>7</td><td>16.2155</td><td>340.5255</td><td>3/3/2019 </td><td>13:23:00</td><td>Credit card</td><td>324.31</td><td>4.761905</td><td>16.2155</td><td>7.4</td></tr>\n",
       "\t<tr><td>123-19-1176</td><td>A</td><td>Yangon   </td><td>Member</td><td>2</td><td>Health and beauty     </td><td>58.22</td><td>8</td><td>23.2880</td><td>489.0480</td><td>1/27/2019</td><td>20:33:00</td><td>Ewallet    </td><td>465.76</td><td>4.761905</td><td>23.2880</td><td>8.4</td></tr>\n",
       "\t<tr><td>373-73-7910</td><td>A</td><td>Yangon   </td><td>Normal</td><td>2</td><td>Sports and travel     </td><td>86.31</td><td>7</td><td>30.2085</td><td>634.3785</td><td>2/8/2019 </td><td>10:37:00</td><td>Ewallet    </td><td>604.17</td><td>4.761905</td><td>30.2085</td><td>5.3</td></tr>\n",
       "</tbody>\n",
       "</table>\n"
      ],
      "text/latex": [
       "A spec\\_tbl\\_df: 5 × 17\n",
       "\\begin{tabular}{lllllllllllllllll}\n",
       " Invoice\\_ID & Branch & City & Customer\\_type & Gender & Product\\_line & Unit\\_price & Quantity & Tax\\_5\\% & Total & Date & Time & Payment & cogs & gross\\_margin\\_percentage & gross\\_income & Rating\\\\\n",
       " <chr> & <chr> & <chr> & <fct> & <dbl> & <chr> & <dbl> & <dbl> & <dbl> & <dbl> & <chr> & <time> & <chr> & <dbl> & <dbl> & <dbl> & <dbl>\\\\\n",
       "\\hline\n",
       "\t 750-67-8428 & A & Yangon    & Member & 1 & Health and beauty      & 74.69 & 7 & 26.1415 & 548.9715 & 1/5/2019  & 13:08:00 & Ewallet     & 522.83 & 4.761905 & 26.1415 & 9.1\\\\\n",
       "\t 226-31-3081 & C & Naypyitaw & Normal & 1 & Electronic accessories & 15.28 & 5 &  3.8200 &  80.2200 & 3/8/2019  & 10:29:00 & Cash        &  76.40 & 4.761905 &  3.8200 & 9.6\\\\\n",
       "\t 631-41-3108 & A & Yangon    & Normal & 2 & Home and lifestyle     & 46.33 & 7 & 16.2155 & 340.5255 & 3/3/2019  & 13:23:00 & Credit card & 324.31 & 4.761905 & 16.2155 & 7.4\\\\\n",
       "\t 123-19-1176 & A & Yangon    & Member & 2 & Health and beauty      & 58.22 & 8 & 23.2880 & 489.0480 & 1/27/2019 & 20:33:00 & Ewallet     & 465.76 & 4.761905 & 23.2880 & 8.4\\\\\n",
       "\t 373-73-7910 & A & Yangon    & Normal & 2 & Sports and travel      & 86.31 & 7 & 30.2085 & 634.3785 & 2/8/2019  & 10:37:00 & Ewallet     & 604.17 & 4.761905 & 30.2085 & 5.3\\\\\n",
       "\\end{tabular}\n"
      ],
      "text/markdown": [
       "\n",
       "A spec_tbl_df: 5 × 17\n",
       "\n",
       "| Invoice_ID &lt;chr&gt; | Branch &lt;chr&gt; | City &lt;chr&gt; | Customer_type &lt;fct&gt; | Gender &lt;dbl&gt; | Product_line &lt;chr&gt; | Unit_price &lt;dbl&gt; | Quantity &lt;dbl&gt; | Tax_5% &lt;dbl&gt; | Total &lt;dbl&gt; | Date &lt;chr&gt; | Time &lt;time&gt; | Payment &lt;chr&gt; | cogs &lt;dbl&gt; | gross_margin_percentage &lt;dbl&gt; | gross_income &lt;dbl&gt; | Rating &lt;dbl&gt; |\n",
       "|---|---|---|---|---|---|---|---|---|---|---|---|---|---|---|---|---|\n",
       "| 750-67-8428 | A | Yangon    | Member | 1 | Health and beauty      | 74.69 | 7 | 26.1415 | 548.9715 | 1/5/2019  | 13:08:00 | Ewallet     | 522.83 | 4.761905 | 26.1415 | 9.1 |\n",
       "| 226-31-3081 | C | Naypyitaw | Normal | 1 | Electronic accessories | 15.28 | 5 |  3.8200 |  80.2200 | 3/8/2019  | 10:29:00 | Cash        |  76.40 | 4.761905 |  3.8200 | 9.6 |\n",
       "| 631-41-3108 | A | Yangon    | Normal | 2 | Home and lifestyle     | 46.33 | 7 | 16.2155 | 340.5255 | 3/3/2019  | 13:23:00 | Credit card | 324.31 | 4.761905 | 16.2155 | 7.4 |\n",
       "| 123-19-1176 | A | Yangon    | Member | 2 | Health and beauty      | 58.22 | 8 | 23.2880 | 489.0480 | 1/27/2019 | 20:33:00 | Ewallet     | 465.76 | 4.761905 | 23.2880 | 8.4 |\n",
       "| 373-73-7910 | A | Yangon    | Normal | 2 | Sports and travel      | 86.31 | 7 | 30.2085 | 634.3785 | 2/8/2019  | 10:37:00 | Ewallet     | 604.17 | 4.761905 | 30.2085 | 5.3 |\n",
       "\n"
      ],
      "text/plain": [
       "  Invoice_ID  Branch City      Customer_type Gender Product_line          \n",
       "1 750-67-8428 A      Yangon    Member        1      Health and beauty     \n",
       "2 226-31-3081 C      Naypyitaw Normal        1      Electronic accessories\n",
       "3 631-41-3108 A      Yangon    Normal        2      Home and lifestyle    \n",
       "4 123-19-1176 A      Yangon    Member        2      Health and beauty     \n",
       "5 373-73-7910 A      Yangon    Normal        2      Sports and travel     \n",
       "  Unit_price Quantity Tax_5%  Total    Date      Time     Payment     cogs  \n",
       "1 74.69      7        26.1415 548.9715 1/5/2019  13:08:00 Ewallet     522.83\n",
       "2 15.28      5         3.8200  80.2200 3/8/2019  10:29:00 Cash         76.40\n",
       "3 46.33      7        16.2155 340.5255 3/3/2019  13:23:00 Credit card 324.31\n",
       "4 58.22      8        23.2880 489.0480 1/27/2019 20:33:00 Ewallet     465.76\n",
       "5 86.31      7        30.2085 634.3785 2/8/2019  10:37:00 Ewallet     604.17\n",
       "  gross_margin_percentage gross_income Rating\n",
       "1 4.761905                26.1415      9.1   \n",
       "2 4.761905                 3.8200      9.6   \n",
       "3 4.761905                16.2155      7.4   \n",
       "4 4.761905                23.2880      8.4   \n",
       "5 4.761905                30.2085      5.3   "
      ]
     },
     "metadata": {},
     "output_type": "display_data"
    }
   ],
   "source": [
    "supermarket <- read_csv('supermarket_sales.csv')\n",
    "    names(supermarket) <- str_replace_all(names(supermarket), \" \", \"_\")\n",
    "\n",
    "supermarket_sales <- supermarket%>%\n",
    "    mutate(Customer_type = as_factor(Customer_type), Gender = as.numeric(as_factor(Gender)))\n",
    "supermarket_sales%>%\n",
    "    slice(1:5)"
   ]
  },
  {
   "cell_type": "code",
   "execution_count": 5,
   "metadata": {},
   "outputs": [
    {
     "data": {
      "text/html": [
       "<table>\n",
       "<caption>A tibble: 5 × 17</caption>\n",
       "<thead>\n",
       "\t<tr><th scope=col>Invoice_ID</th><th scope=col>Branch</th><th scope=col>City</th><th scope=col>Customer_type</th><th scope=col>Gender</th><th scope=col>Product_line</th><th scope=col>Unit_price</th><th scope=col>Quantity</th><th scope=col>Tax_5%</th><th scope=col>Total</th><th scope=col>Date</th><th scope=col>Time</th><th scope=col>Payment</th><th scope=col>cogs</th><th scope=col>gross_margin_percentage</th><th scope=col>gross_income</th><th scope=col>Rating</th></tr>\n",
       "\t<tr><th scope=col>&lt;chr&gt;</th><th scope=col>&lt;chr&gt;</th><th scope=col>&lt;chr&gt;</th><th scope=col>&lt;fct&gt;</th><th scope=col>&lt;dbl&gt;</th><th scope=col>&lt;chr&gt;</th><th scope=col>&lt;dbl&gt;</th><th scope=col>&lt;dbl&gt;</th><th scope=col>&lt;dbl&gt;</th><th scope=col>&lt;dbl&gt;</th><th scope=col>&lt;chr&gt;</th><th scope=col>&lt;time&gt;</th><th scope=col>&lt;chr&gt;</th><th scope=col>&lt;dbl&gt;</th><th scope=col>&lt;dbl&gt;</th><th scope=col>&lt;dbl&gt;</th><th scope=col>&lt;dbl&gt;</th></tr>\n",
       "</thead>\n",
       "<tbody>\n",
       "\t<tr><td>226-31-3081</td><td>C</td><td>Naypyitaw</td><td>Normal</td><td>1</td><td>Electronic accessories</td><td>15.28</td><td>5</td><td> 3.8200</td><td> 80.2200</td><td>3/8/2019 </td><td>10:29:00</td><td>Cash       </td><td> 76.40</td><td>4.761905</td><td> 3.8200</td><td>9.6</td></tr>\n",
       "\t<tr><td>631-41-3108</td><td>A</td><td>Yangon   </td><td>Normal</td><td>2</td><td>Home and lifestyle    </td><td>46.33</td><td>7</td><td>16.2155</td><td>340.5255</td><td>3/3/2019 </td><td>13:23:00</td><td>Credit card</td><td>324.31</td><td>4.761905</td><td>16.2155</td><td>7.4</td></tr>\n",
       "\t<tr><td>123-19-1176</td><td>A</td><td>Yangon   </td><td>Member</td><td>2</td><td>Health and beauty     </td><td>58.22</td><td>8</td><td>23.2880</td><td>489.0480</td><td>1/27/2019</td><td>20:33:00</td><td>Ewallet    </td><td>465.76</td><td>4.761905</td><td>23.2880</td><td>8.4</td></tr>\n",
       "\t<tr><td>373-73-7910</td><td>A</td><td>Yangon   </td><td>Normal</td><td>2</td><td>Sports and travel     </td><td>86.31</td><td>7</td><td>30.2085</td><td>634.3785</td><td>2/8/2019 </td><td>10:37:00</td><td>Ewallet    </td><td>604.17</td><td>4.761905</td><td>30.2085</td><td>5.3</td></tr>\n",
       "\t<tr><td>699-14-3026</td><td>C</td><td>Naypyitaw</td><td>Normal</td><td>2</td><td>Electronic accessories</td><td>85.39</td><td>7</td><td>29.8865</td><td>627.6165</td><td>3/25/2019</td><td>18:30:00</td><td>Ewallet    </td><td>597.73</td><td>4.761905</td><td>29.8865</td><td>4.1</td></tr>\n",
       "</tbody>\n",
       "</table>\n"
      ],
      "text/latex": [
       "A tibble: 5 × 17\n",
       "\\begin{tabular}{lllllllllllllllll}\n",
       " Invoice\\_ID & Branch & City & Customer\\_type & Gender & Product\\_line & Unit\\_price & Quantity & Tax\\_5\\% & Total & Date & Time & Payment & cogs & gross\\_margin\\_percentage & gross\\_income & Rating\\\\\n",
       " <chr> & <chr> & <chr> & <fct> & <dbl> & <chr> & <dbl> & <dbl> & <dbl> & <dbl> & <chr> & <time> & <chr> & <dbl> & <dbl> & <dbl> & <dbl>\\\\\n",
       "\\hline\n",
       "\t 226-31-3081 & C & Naypyitaw & Normal & 1 & Electronic accessories & 15.28 & 5 &  3.8200 &  80.2200 & 3/8/2019  & 10:29:00 & Cash        &  76.40 & 4.761905 &  3.8200 & 9.6\\\\\n",
       "\t 631-41-3108 & A & Yangon    & Normal & 2 & Home and lifestyle     & 46.33 & 7 & 16.2155 & 340.5255 & 3/3/2019  & 13:23:00 & Credit card & 324.31 & 4.761905 & 16.2155 & 7.4\\\\\n",
       "\t 123-19-1176 & A & Yangon    & Member & 2 & Health and beauty      & 58.22 & 8 & 23.2880 & 489.0480 & 1/27/2019 & 20:33:00 & Ewallet     & 465.76 & 4.761905 & 23.2880 & 8.4\\\\\n",
       "\t 373-73-7910 & A & Yangon    & Normal & 2 & Sports and travel      & 86.31 & 7 & 30.2085 & 634.3785 & 2/8/2019  & 10:37:00 & Ewallet     & 604.17 & 4.761905 & 30.2085 & 5.3\\\\\n",
       "\t 699-14-3026 & C & Naypyitaw & Normal & 2 & Electronic accessories & 85.39 & 7 & 29.8865 & 627.6165 & 3/25/2019 & 18:30:00 & Ewallet     & 597.73 & 4.761905 & 29.8865 & 4.1\\\\\n",
       "\\end{tabular}\n"
      ],
      "text/markdown": [
       "\n",
       "A tibble: 5 × 17\n",
       "\n",
       "| Invoice_ID &lt;chr&gt; | Branch &lt;chr&gt; | City &lt;chr&gt; | Customer_type &lt;fct&gt; | Gender &lt;dbl&gt; | Product_line &lt;chr&gt; | Unit_price &lt;dbl&gt; | Quantity &lt;dbl&gt; | Tax_5% &lt;dbl&gt; | Total &lt;dbl&gt; | Date &lt;chr&gt; | Time &lt;time&gt; | Payment &lt;chr&gt; | cogs &lt;dbl&gt; | gross_margin_percentage &lt;dbl&gt; | gross_income &lt;dbl&gt; | Rating &lt;dbl&gt; |\n",
       "|---|---|---|---|---|---|---|---|---|---|---|---|---|---|---|---|---|\n",
       "| 226-31-3081 | C | Naypyitaw | Normal | 1 | Electronic accessories | 15.28 | 5 |  3.8200 |  80.2200 | 3/8/2019  | 10:29:00 | Cash        |  76.40 | 4.761905 |  3.8200 | 9.6 |\n",
       "| 631-41-3108 | A | Yangon    | Normal | 2 | Home and lifestyle     | 46.33 | 7 | 16.2155 | 340.5255 | 3/3/2019  | 13:23:00 | Credit card | 324.31 | 4.761905 | 16.2155 | 7.4 |\n",
       "| 123-19-1176 | A | Yangon    | Member | 2 | Health and beauty      | 58.22 | 8 | 23.2880 | 489.0480 | 1/27/2019 | 20:33:00 | Ewallet     | 465.76 | 4.761905 | 23.2880 | 8.4 |\n",
       "| 373-73-7910 | A | Yangon    | Normal | 2 | Sports and travel      | 86.31 | 7 | 30.2085 | 634.3785 | 2/8/2019  | 10:37:00 | Ewallet     | 604.17 | 4.761905 | 30.2085 | 5.3 |\n",
       "| 699-14-3026 | C | Naypyitaw | Normal | 2 | Electronic accessories | 85.39 | 7 | 29.8865 | 627.6165 | 3/25/2019 | 18:30:00 | Ewallet     | 597.73 | 4.761905 | 29.8865 | 4.1 |\n",
       "\n"
      ],
      "text/plain": [
       "  Invoice_ID  Branch City      Customer_type Gender Product_line          \n",
       "1 226-31-3081 C      Naypyitaw Normal        1      Electronic accessories\n",
       "2 631-41-3108 A      Yangon    Normal        2      Home and lifestyle    \n",
       "3 123-19-1176 A      Yangon    Member        2      Health and beauty     \n",
       "4 373-73-7910 A      Yangon    Normal        2      Sports and travel     \n",
       "5 699-14-3026 C      Naypyitaw Normal        2      Electronic accessories\n",
       "  Unit_price Quantity Tax_5%  Total    Date      Time     Payment     cogs  \n",
       "1 15.28      5         3.8200  80.2200 3/8/2019  10:29:00 Cash         76.40\n",
       "2 46.33      7        16.2155 340.5255 3/3/2019  13:23:00 Credit card 324.31\n",
       "3 58.22      8        23.2880 489.0480 1/27/2019 20:33:00 Ewallet     465.76\n",
       "4 86.31      7        30.2085 634.3785 2/8/2019  10:37:00 Ewallet     604.17\n",
       "5 85.39      7        29.8865 627.6165 3/25/2019 18:30:00 Ewallet     597.73\n",
       "  gross_margin_percentage gross_income Rating\n",
       "1 4.761905                 3.8200      9.6   \n",
       "2 4.761905                16.2155      7.4   \n",
       "3 4.761905                23.2880      8.4   \n",
       "4 4.761905                30.2085      5.3   \n",
       "5 4.761905                29.8865      4.1   "
      ]
     },
     "metadata": {},
     "output_type": "display_data"
    }
   ],
   "source": [
    "set.seed(1)\n",
    "supermarket_split <- initial_split(supermarket_sales, prop = 0.70, strata = Customer_type) \n",
    "supermarket_train <- training(supermarket_split)\n",
    "supermarket_test <- testing(supermarket_split)\n",
    "\n",
    "supermarket_train%>%\n",
    "    slice(1:5)"
   ]
  },
  {
   "cell_type": "code",
   "execution_count": 6,
   "metadata": {},
   "outputs": [
    {
     "data": {
      "text/plain": [
       "Data Recipe\n",
       "\n",
       "Inputs:\n",
       "\n",
       "      role #variables\n",
       "   outcome          1\n",
       " predictor          3\n",
       "\n",
       "Operations:\n",
       "\n",
       "Scaling for all_predictors()\n",
       "Centering for all_predictors()"
      ]
     },
     "metadata": {},
     "output_type": "display_data"
    }
   ],
   "source": [
    "supermarket_recipe <- recipe(Customer_type ~ Gender + Total + Rating , data = supermarket_train) %>%\n",
    "    step_scale(all_predictors()) %>%\n",
    "    step_center(all_predictors())\n",
    "supermarket_recipe"
   ]
  },
  {
   "cell_type": "code",
   "execution_count": 24,
   "metadata": {},
   "outputs": [],
   "source": [
    "supermarket_vfold <- vfold_cv(supermarket_train, v = 5, strata = Customer_type)\n"
   ]
  },
  {
   "cell_type": "code",
   "execution_count": 25,
   "metadata": {},
   "outputs": [
    {
     "data": {
      "text/plain": [
       "K-Nearest Neighbor Model Specification (classification)\n",
       "\n",
       "Main Arguments:\n",
       "  neighbors = tune()\n",
       "  weight_func = rectangular\n",
       "\n",
       "Computational engine: kknn \n"
      ]
     },
     "metadata": {},
     "output_type": "display_data"
    }
   ],
   "source": [
    "knn_spec <- nearest_neighbor(weight_func = 'rectangular', neighbors = tune()) %>%\n",
    "       set_engine(\"kknn\") %>%\n",
    "       set_mode(\"classification\")\n",
    "knn_spec"
   ]
  },
  {
   "cell_type": "code",
   "execution_count": 26,
   "metadata": {},
   "outputs": [
    {
     "data": {
      "text/html": [
       "<table>\n",
       "<caption>A tibble: 18 × 7</caption>\n",
       "<thead>\n",
       "\t<tr><th scope=col>neighbors</th><th scope=col>.metric</th><th scope=col>.estimator</th><th scope=col>mean</th><th scope=col>n</th><th scope=col>std_err</th><th scope=col>.config</th></tr>\n",
       "\t<tr><th scope=col>&lt;int&gt;</th><th scope=col>&lt;chr&gt;</th><th scope=col>&lt;chr&gt;</th><th scope=col>&lt;dbl&gt;</th><th scope=col>&lt;int&gt;</th><th scope=col>&lt;dbl&gt;</th><th scope=col>&lt;chr&gt;</th></tr>\n",
       "</thead>\n",
       "<tbody>\n",
       "\t<tr><td> 1</td><td>accuracy</td><td>binary</td><td>0.4836170</td><td>5</td><td>0.01342595</td><td>Model1</td></tr>\n",
       "\t<tr><td> 1</td><td>roc_auc </td><td>binary</td><td>0.4835815</td><td>5</td><td>0.01343627</td><td>Model1</td></tr>\n",
       "\t<tr><td> 3</td><td>accuracy</td><td>binary</td><td>0.4579230</td><td>5</td><td>0.01049130</td><td>Model2</td></tr>\n",
       "\t<tr><td> 3</td><td>roc_auc </td><td>binary</td><td>0.4437861</td><td>5</td><td>0.01341181</td><td>Model2</td></tr>\n",
       "\t<tr><td> 5</td><td>accuracy</td><td>binary</td><td>0.4593009</td><td>5</td><td>0.01046001</td><td>Model3</td></tr>\n",
       "\t<tr><td> 5</td><td>roc_auc </td><td>binary</td><td>0.4381739</td><td>5</td><td>0.01458778</td><td>Model3</td></tr>\n",
       "\t<tr><td> 7</td><td>accuracy</td><td>binary</td><td>0.4521581</td><td>5</td><td>0.01875668</td><td>Model4</td></tr>\n",
       "\t<tr><td> 7</td><td>roc_auc </td><td>binary</td><td>0.4356939</td><td>5</td><td>0.02062695</td><td>Model4</td></tr>\n",
       "\t<tr><td> 9</td><td>accuracy</td><td>binary</td><td>0.4379534</td><td>5</td><td>0.01818947</td><td>Model5</td></tr>\n",
       "\t<tr><td> 9</td><td>roc_auc </td><td>binary</td><td>0.4133162</td><td>5</td><td>0.02158136</td><td>Model5</td></tr>\n",
       "\t<tr><td>10</td><td>accuracy</td><td>binary</td><td>0.4379534</td><td>5</td><td>0.01818947</td><td>Model6</td></tr>\n",
       "\t<tr><td>10</td><td>roc_auc </td><td>binary</td><td>0.4143395</td><td>5</td><td>0.02632598</td><td>Model6</td></tr>\n",
       "\t<tr><td>11</td><td>accuracy</td><td>binary</td><td>0.4193516</td><td>5</td><td>0.01957744</td><td>Model7</td></tr>\n",
       "\t<tr><td>11</td><td>roc_auc </td><td>binary</td><td>0.4126094</td><td>5</td><td>0.02349274</td><td>Model7</td></tr>\n",
       "\t<tr><td>13</td><td>accuracy</td><td>binary</td><td>0.4293212</td><td>5</td><td>0.02145940</td><td>Model8</td></tr>\n",
       "\t<tr><td>13</td><td>roc_auc </td><td>binary</td><td>0.4122923</td><td>5</td><td>0.02209335</td><td>Model8</td></tr>\n",
       "\t<tr><td>14</td><td>accuracy</td><td>binary</td><td>0.4293212</td><td>5</td><td>0.02145940</td><td>Model9</td></tr>\n",
       "\t<tr><td>14</td><td>roc_auc </td><td>binary</td><td>0.4123760</td><td>5</td><td>0.01638726</td><td>Model9</td></tr>\n",
       "</tbody>\n",
       "</table>\n"
      ],
      "text/latex": [
       "A tibble: 18 × 7\n",
       "\\begin{tabular}{lllllll}\n",
       " neighbors & .metric & .estimator & mean & n & std\\_err & .config\\\\\n",
       " <int> & <chr> & <chr> & <dbl> & <int> & <dbl> & <chr>\\\\\n",
       "\\hline\n",
       "\t  1 & accuracy & binary & 0.4836170 & 5 & 0.01342595 & Model1\\\\\n",
       "\t  1 & roc\\_auc  & binary & 0.4835815 & 5 & 0.01343627 & Model1\\\\\n",
       "\t  3 & accuracy & binary & 0.4579230 & 5 & 0.01049130 & Model2\\\\\n",
       "\t  3 & roc\\_auc  & binary & 0.4437861 & 5 & 0.01341181 & Model2\\\\\n",
       "\t  5 & accuracy & binary & 0.4593009 & 5 & 0.01046001 & Model3\\\\\n",
       "\t  5 & roc\\_auc  & binary & 0.4381739 & 5 & 0.01458778 & Model3\\\\\n",
       "\t  7 & accuracy & binary & 0.4521581 & 5 & 0.01875668 & Model4\\\\\n",
       "\t  7 & roc\\_auc  & binary & 0.4356939 & 5 & 0.02062695 & Model4\\\\\n",
       "\t  9 & accuracy & binary & 0.4379534 & 5 & 0.01818947 & Model5\\\\\n",
       "\t  9 & roc\\_auc  & binary & 0.4133162 & 5 & 0.02158136 & Model5\\\\\n",
       "\t 10 & accuracy & binary & 0.4379534 & 5 & 0.01818947 & Model6\\\\\n",
       "\t 10 & roc\\_auc  & binary & 0.4143395 & 5 & 0.02632598 & Model6\\\\\n",
       "\t 11 & accuracy & binary & 0.4193516 & 5 & 0.01957744 & Model7\\\\\n",
       "\t 11 & roc\\_auc  & binary & 0.4126094 & 5 & 0.02349274 & Model7\\\\\n",
       "\t 13 & accuracy & binary & 0.4293212 & 5 & 0.02145940 & Model8\\\\\n",
       "\t 13 & roc\\_auc  & binary & 0.4122923 & 5 & 0.02209335 & Model8\\\\\n",
       "\t 14 & accuracy & binary & 0.4293212 & 5 & 0.02145940 & Model9\\\\\n",
       "\t 14 & roc\\_auc  & binary & 0.4123760 & 5 & 0.01638726 & Model9\\\\\n",
       "\\end{tabular}\n"
      ],
      "text/markdown": [
       "\n",
       "A tibble: 18 × 7\n",
       "\n",
       "| neighbors &lt;int&gt; | .metric &lt;chr&gt; | .estimator &lt;chr&gt; | mean &lt;dbl&gt; | n &lt;int&gt; | std_err &lt;dbl&gt; | .config &lt;chr&gt; |\n",
       "|---|---|---|---|---|---|---|\n",
       "|  1 | accuracy | binary | 0.4836170 | 5 | 0.01342595 | Model1 |\n",
       "|  1 | roc_auc  | binary | 0.4835815 | 5 | 0.01343627 | Model1 |\n",
       "|  3 | accuracy | binary | 0.4579230 | 5 | 0.01049130 | Model2 |\n",
       "|  3 | roc_auc  | binary | 0.4437861 | 5 | 0.01341181 | Model2 |\n",
       "|  5 | accuracy | binary | 0.4593009 | 5 | 0.01046001 | Model3 |\n",
       "|  5 | roc_auc  | binary | 0.4381739 | 5 | 0.01458778 | Model3 |\n",
       "|  7 | accuracy | binary | 0.4521581 | 5 | 0.01875668 | Model4 |\n",
       "|  7 | roc_auc  | binary | 0.4356939 | 5 | 0.02062695 | Model4 |\n",
       "|  9 | accuracy | binary | 0.4379534 | 5 | 0.01818947 | Model5 |\n",
       "|  9 | roc_auc  | binary | 0.4133162 | 5 | 0.02158136 | Model5 |\n",
       "| 10 | accuracy | binary | 0.4379534 | 5 | 0.01818947 | Model6 |\n",
       "| 10 | roc_auc  | binary | 0.4143395 | 5 | 0.02632598 | Model6 |\n",
       "| 11 | accuracy | binary | 0.4193516 | 5 | 0.01957744 | Model7 |\n",
       "| 11 | roc_auc  | binary | 0.4126094 | 5 | 0.02349274 | Model7 |\n",
       "| 13 | accuracy | binary | 0.4293212 | 5 | 0.02145940 | Model8 |\n",
       "| 13 | roc_auc  | binary | 0.4122923 | 5 | 0.02209335 | Model8 |\n",
       "| 14 | accuracy | binary | 0.4293212 | 5 | 0.02145940 | Model9 |\n",
       "| 14 | roc_auc  | binary | 0.4123760 | 5 | 0.01638726 | Model9 |\n",
       "\n"
      ],
      "text/plain": [
       "   neighbors .metric  .estimator mean      n std_err    .config\n",
       "1   1        accuracy binary     0.4836170 5 0.01342595 Model1 \n",
       "2   1        roc_auc  binary     0.4835815 5 0.01343627 Model1 \n",
       "3   3        accuracy binary     0.4579230 5 0.01049130 Model2 \n",
       "4   3        roc_auc  binary     0.4437861 5 0.01341181 Model2 \n",
       "5   5        accuracy binary     0.4593009 5 0.01046001 Model3 \n",
       "6   5        roc_auc  binary     0.4381739 5 0.01458778 Model3 \n",
       "7   7        accuracy binary     0.4521581 5 0.01875668 Model4 \n",
       "8   7        roc_auc  binary     0.4356939 5 0.02062695 Model4 \n",
       "9   9        accuracy binary     0.4379534 5 0.01818947 Model5 \n",
       "10  9        roc_auc  binary     0.4133162 5 0.02158136 Model5 \n",
       "11 10        accuracy binary     0.4379534 5 0.01818947 Model6 \n",
       "12 10        roc_auc  binary     0.4143395 5 0.02632598 Model6 \n",
       "13 11        accuracy binary     0.4193516 5 0.01957744 Model7 \n",
       "14 11        roc_auc  binary     0.4126094 5 0.02349274 Model7 \n",
       "15 13        accuracy binary     0.4293212 5 0.02145940 Model8 \n",
       "16 13        roc_auc  binary     0.4122923 5 0.02209335 Model8 \n",
       "17 14        accuracy binary     0.4293212 5 0.02145940 Model9 \n",
       "18 14        roc_auc  binary     0.4123760 5 0.01638726 Model9 "
      ]
     },
     "metadata": {},
     "output_type": "display_data"
    }
   ],
   "source": [
    "supermarket_workflow <- workflow()%>%\n",
    "     add_recipe(supermarket_recipe) %>%\n",
    "     add_model(knn_spec) %>%\n",
    "     tune_grid(resamples = supermarket_vfold, grid = 10)%>%\n",
    "     collect_metrics()\n",
    "supermarket_fit"
   ]
  },
  {
   "cell_type": "code",
   "execution_count": 27,
   "metadata": {},
   "outputs": [
    {
     "data": {
      "image/png": "[encoded data removed]",
      "text/plain": [
       "plot without title"
      ]
     },
     "metadata": {
      "image/png": {
       "height": 420,
       "width": 420
      }
     },
     "output_type": "display_data"
    }
   ],
   "source": [
    "supermarket_accuracies <- supermarket_workflow%>%\n",
    "    filter(.metric == 'accuracy')\n",
    " \n",
    "cross_val_plot <- ggplot(supermarket_accuracies, aes(x = neighbors, y = mean)) +\n",
    "    geom_point()+\n",
    "    geom_line()+\n",
    "    labs(x = 'Neighbors', y = 'Accuracy Estimate')\n",
    "\n",
    "cross_val_plot\n",
    "\n"
   ]
  },
  {
   "cell_type": "code",
   "execution_count": null,
   "metadata": {},
   "outputs": [],
   "source": []
  }
 ],
 "metadata": {
  "kernelspec": {
   "display_name": "R",
   "language": "R",
   "name": "ir"
  },
  "language_info": {
   "codemirror_mode": "r",
   "file_extension": ".r",
   "mimetype": "text/x-r-source",
   "name": "R",
   "pygments_lexer": "r",
   "version": "4.0.0"
  }
 },
 "nbformat": 4,
 "nbformat_minor": 4
}
