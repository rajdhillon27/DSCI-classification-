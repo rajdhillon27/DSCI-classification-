{
 "cells": [
  {
   "cell_type": "code",
   "execution_count": 2,
   "metadata": {},
   "outputs": [
    {
     "name": "stderr",
     "output_type": "stream",
     "text": [
      "── \u001b[1mAttaching packages\u001b[22m ─────────────────────────────────────── tidyverse 1.3.0 ──\n",
      "\n",
      "\u001b[32m✔\u001b[39m \u001b[34mggplot2\u001b[39m 3.3.2     \u001b[32m✔\u001b[39m \u001b[34mpurrr  \u001b[39m 0.3.4\n",
      "\u001b[32m✔\u001b[39m \u001b[34mtibble \u001b[39m 3.0.3     \u001b[32m✔\u001b[39m \u001b[34mdplyr  \u001b[39m 1.0.2\n",
      "\u001b[32m✔\u001b[39m \u001b[34mtidyr  \u001b[39m 1.1.2     \u001b[32m✔\u001b[39m \u001b[34mstringr\u001b[39m 1.4.0\n",
      "\u001b[32m✔\u001b[39m \u001b[34mreadr  \u001b[39m 1.3.1     \u001b[32m✔\u001b[39m \u001b[34mforcats\u001b[39m 0.5.0\n",
      "\n",
      "Warning message:\n",
      "“package ‘ggplot2’ was built under R version 4.0.1”\n",
      "Warning message:\n",
      "“package ‘tibble’ was built under R version 4.0.2”\n",
      "Warning message:\n",
      "“package ‘tidyr’ was built under R version 4.0.2”\n",
      "Warning message:\n",
      "“package ‘dplyr’ was built under R version 4.0.2”\n",
      "── \u001b[1mConflicts\u001b[22m ────────────────────────────────────────── tidyverse_conflicts() ──\n",
      "\u001b[31m✖\u001b[39m \u001b[34mdplyr\u001b[39m::\u001b[32mfilter()\u001b[39m masks \u001b[34mstats\u001b[39m::filter()\n",
      "\u001b[31m✖\u001b[39m \u001b[34mdplyr\u001b[39m::\u001b[32mlag()\u001b[39m    masks \u001b[34mstats\u001b[39m::lag()\n",
      "\n",
      "Warning message:\n",
      "“package ‘tidymodels’ was built under R version 4.0.2”\n",
      "── \u001b[1mAttaching packages\u001b[22m ────────────────────────────────────── tidymodels 0.1.1 ──\n",
      "\n",
      "\u001b[32m✔\u001b[39m \u001b[34mbroom    \u001b[39m 0.7.0      \u001b[32m✔\u001b[39m \u001b[34mrecipes  \u001b[39m 0.1.13\n",
      "\u001b[32m✔\u001b[39m \u001b[34mdials    \u001b[39m 0.0.9      \u001b[32m✔\u001b[39m \u001b[34mrsample  \u001b[39m 0.0.7 \n",
      "\u001b[32m✔\u001b[39m \u001b[34minfer    \u001b[39m 0.5.4      \u001b[32m✔\u001b[39m \u001b[34mtune     \u001b[39m 0.1.1 \n",
      "\u001b[32m✔\u001b[39m \u001b[34mmodeldata\u001b[39m 0.0.2      \u001b[32m✔\u001b[39m \u001b[34mworkflows\u001b[39m 0.2.0 \n",
      "\u001b[32m✔\u001b[39m \u001b[34mparsnip  \u001b[39m 0.1.3      \u001b[32m✔\u001b[39m \u001b[34myardstick\u001b[39m 0.0.7 \n",
      "\n",
      "Warning message:\n",
      "“package ‘broom’ was built under R version 4.0.2”\n",
      "Warning message:\n",
      "“package ‘dials’ was built under R version 4.0.2”\n",
      "Warning message:\n",
      "“package ‘infer’ was built under R version 4.0.3”\n",
      "Warning message:\n",
      "“package ‘modeldata’ was built under R version 4.0.1”\n",
      "Warning message:\n",
      "“package ‘parsnip’ was built under R version 4.0.2”\n",
      "Warning message:\n",
      "“package ‘recipes’ was built under R version 4.0.1”\n",
      "Warning message:\n",
      "“package ‘tune’ was built under R version 4.0.2”\n",
      "Warning message:\n",
      "“package ‘workflows’ was built under R version 4.0.2”\n",
      "Warning message:\n",
      "“package ‘yardstick’ was built under R version 4.0.2”\n",
      "── \u001b[1mConflicts\u001b[22m ───────────────────────────────────────── tidymodels_conflicts() ──\n",
      "\u001b[31m✖\u001b[39m \u001b[34mscales\u001b[39m::\u001b[32mdiscard()\u001b[39m masks \u001b[34mpurrr\u001b[39m::discard()\n",
      "\u001b[31m✖\u001b[39m \u001b[34mdplyr\u001b[39m::\u001b[32mfilter()\u001b[39m   masks \u001b[34mstats\u001b[39m::filter()\n",
      "\u001b[31m✖\u001b[39m \u001b[34mrecipes\u001b[39m::\u001b[32mfixed()\u001b[39m  masks \u001b[34mstringr\u001b[39m::fixed()\n",
      "\u001b[31m✖\u001b[39m \u001b[34mdplyr\u001b[39m::\u001b[32mlag()\u001b[39m      masks \u001b[34mstats\u001b[39m::lag()\n",
      "\u001b[31m✖\u001b[39m \u001b[34myardstick\u001b[39m::\u001b[32mspec()\u001b[39m masks \u001b[34mreadr\u001b[39m::spec()\n",
      "\u001b[31m✖\u001b[39m \u001b[34mrecipes\u001b[39m::\u001b[32mstep()\u001b[39m   masks \u001b[34mstats\u001b[39m::step()\n",
      "\n"
     ]
    }
   ],
   "source": [
    "library(tidyverse)\n",
    "library(repr)\n",
    "library(tidymodels)\n",
    "library(dplyr)"
   ]
  },
  {
   "cell_type": "code",
   "execution_count": 7,
   "metadata": {},
   "outputs": [
    {
     "name": "stderr",
     "output_type": "stream",
     "text": [
      "Parsed with column specification:\n",
      "cols(\n",
      "  HeartDisease = \u001b[31mcol_character()\u001b[39m,\n",
      "  BMI = \u001b[32mcol_double()\u001b[39m,\n",
      "  Smoking = \u001b[31mcol_character()\u001b[39m,\n",
      "  AlcoholDrinking = \u001b[31mcol_character()\u001b[39m,\n",
      "  Stroke = \u001b[31mcol_character()\u001b[39m,\n",
      "  PhysicalHealth = \u001b[32mcol_double()\u001b[39m,\n",
      "  MentalHealth = \u001b[32mcol_double()\u001b[39m,\n",
      "  DiffWalking = \u001b[31mcol_character()\u001b[39m,\n",
      "  Sex = \u001b[31mcol_character()\u001b[39m,\n",
      "  AgeCategory = \u001b[31mcol_character()\u001b[39m,\n",
      "  Race = \u001b[31mcol_character()\u001b[39m,\n",
      "  Diabetic = \u001b[31mcol_character()\u001b[39m,\n",
      "  PhysicalActivity = \u001b[31mcol_character()\u001b[39m,\n",
      "  GenHealth = \u001b[31mcol_character()\u001b[39m,\n",
      "  SleepTime = \u001b[32mcol_double()\u001b[39m,\n",
      "  Asthma = \u001b[31mcol_character()\u001b[39m,\n",
      "  KidneyDisease = \u001b[31mcol_character()\u001b[39m,\n",
      "  SkinCancer = \u001b[31mcol_character()\u001b[39m\n",
      ")\n",
      "\n"
     ]
    },
    {
     "data": {
      "text/html": [
       "<table>\n",
       "<caption>A spec_tbl_df: 5 × 18</caption>\n",
       "<thead>\n",
       "\t<tr><th scope=col>HeartDisease</th><th scope=col>BMI</th><th scope=col>Smoking</th><th scope=col>AlcoholDrinking</th><th scope=col>Stroke</th><th scope=col>PhysicalHealth</th><th scope=col>MentalHealth</th><th scope=col>DiffWalking</th><th scope=col>Sex</th><th scope=col>AgeCategory</th><th scope=col>Race</th><th scope=col>Diabetic</th><th scope=col>PhysicalActivity</th><th scope=col>GenHealth</th><th scope=col>SleepTime</th><th scope=col>Asthma</th><th scope=col>KidneyDisease</th><th scope=col>SkinCancer</th></tr>\n",
       "\t<tr><th scope=col>&lt;fct&gt;</th><th scope=col>&lt;dbl&gt;</th><th scope=col>&lt;chr&gt;</th><th scope=col>&lt;chr&gt;</th><th scope=col>&lt;chr&gt;</th><th scope=col>&lt;dbl&gt;</th><th scope=col>&lt;dbl&gt;</th><th scope=col>&lt;chr&gt;</th><th scope=col>&lt;chr&gt;</th><th scope=col>&lt;chr&gt;</th><th scope=col>&lt;chr&gt;</th><th scope=col>&lt;chr&gt;</th><th scope=col>&lt;chr&gt;</th><th scope=col>&lt;chr&gt;</th><th scope=col>&lt;dbl&gt;</th><th scope=col>&lt;chr&gt;</th><th scope=col>&lt;chr&gt;</th><th scope=col>&lt;chr&gt;</th></tr>\n",
       "</thead>\n",
       "<tbody>\n",
       "\t<tr><td>No</td><td>16.60</td><td>Yes</td><td>No</td><td>No </td><td> 3</td><td>30</td><td>No </td><td>Female</td><td>55-59      </td><td>White</td><td>Yes</td><td>Yes</td><td>Very good</td><td>5</td><td>Yes</td><td>No</td><td>Yes</td></tr>\n",
       "\t<tr><td>No</td><td>20.34</td><td>No </td><td>No</td><td>Yes</td><td> 0</td><td> 0</td><td>No </td><td>Female</td><td>80 or older</td><td>White</td><td>No </td><td>Yes</td><td>Very good</td><td>7</td><td>No </td><td>No</td><td>No </td></tr>\n",
       "\t<tr><td>No</td><td>26.58</td><td>Yes</td><td>No</td><td>No </td><td>20</td><td>30</td><td>No </td><td>Male  </td><td>65-69      </td><td>White</td><td>Yes</td><td>Yes</td><td>Fair     </td><td>8</td><td>Yes</td><td>No</td><td>No </td></tr>\n",
       "\t<tr><td>No</td><td>24.21</td><td>No </td><td>No</td><td>No </td><td> 0</td><td> 0</td><td>No </td><td>Female</td><td>75-79      </td><td>White</td><td>No </td><td>No </td><td>Good     </td><td>6</td><td>No </td><td>No</td><td>Yes</td></tr>\n",
       "\t<tr><td>No</td><td>23.71</td><td>No </td><td>No</td><td>No </td><td>28</td><td> 0</td><td>Yes</td><td>Female</td><td>40-44      </td><td>White</td><td>No </td><td>Yes</td><td>Very good</td><td>8</td><td>No </td><td>No</td><td>No </td></tr>\n",
       "</tbody>\n",
       "</table>\n"
      ],
      "text/latex": [
       "A spec\\_tbl\\_df: 5 × 18\n",
       "\\begin{tabular}{llllllllllllllllll}\n",
       " HeartDisease & BMI & Smoking & AlcoholDrinking & Stroke & PhysicalHealth & MentalHealth & DiffWalking & Sex & AgeCategory & Race & Diabetic & PhysicalActivity & GenHealth & SleepTime & Asthma & KidneyDisease & SkinCancer\\\\\n",
       " <fct> & <dbl> & <chr> & <chr> & <chr> & <dbl> & <dbl> & <chr> & <chr> & <chr> & <chr> & <chr> & <chr> & <chr> & <dbl> & <chr> & <chr> & <chr>\\\\\n",
       "\\hline\n",
       "\t No & 16.60 & Yes & No & No  &  3 & 30 & No  & Female & 55-59       & White & Yes & Yes & Very good & 5 & Yes & No & Yes\\\\\n",
       "\t No & 20.34 & No  & No & Yes &  0 &  0 & No  & Female & 80 or older & White & No  & Yes & Very good & 7 & No  & No & No \\\\\n",
       "\t No & 26.58 & Yes & No & No  & 20 & 30 & No  & Male   & 65-69       & White & Yes & Yes & Fair      & 8 & Yes & No & No \\\\\n",
       "\t No & 24.21 & No  & No & No  &  0 &  0 & No  & Female & 75-79       & White & No  & No  & Good      & 6 & No  & No & Yes\\\\\n",
       "\t No & 23.71 & No  & No & No  & 28 &  0 & Yes & Female & 40-44       & White & No  & Yes & Very good & 8 & No  & No & No \\\\\n",
       "\\end{tabular}\n"
      ],
      "text/markdown": [
       "\n",
       "A spec_tbl_df: 5 × 18\n",
       "\n",
       "| HeartDisease &lt;fct&gt; | BMI &lt;dbl&gt; | Smoking &lt;chr&gt; | AlcoholDrinking &lt;chr&gt; | Stroke &lt;chr&gt; | PhysicalHealth &lt;dbl&gt; | MentalHealth &lt;dbl&gt; | DiffWalking &lt;chr&gt; | Sex &lt;chr&gt; | AgeCategory &lt;chr&gt; | Race &lt;chr&gt; | Diabetic &lt;chr&gt; | PhysicalActivity &lt;chr&gt; | GenHealth &lt;chr&gt; | SleepTime &lt;dbl&gt; | Asthma &lt;chr&gt; | KidneyDisease &lt;chr&gt; | SkinCancer &lt;chr&gt; |\n",
       "|---|---|---|---|---|---|---|---|---|---|---|---|---|---|---|---|---|---|\n",
       "| No | 16.60 | Yes | No | No  |  3 | 30 | No  | Female | 55-59       | White | Yes | Yes | Very good | 5 | Yes | No | Yes |\n",
       "| No | 20.34 | No  | No | Yes |  0 |  0 | No  | Female | 80 or older | White | No  | Yes | Very good | 7 | No  | No | No  |\n",
       "| No | 26.58 | Yes | No | No  | 20 | 30 | No  | Male   | 65-69       | White | Yes | Yes | Fair      | 8 | Yes | No | No  |\n",
       "| No | 24.21 | No  | No | No  |  0 |  0 | No  | Female | 75-79       | White | No  | No  | Good      | 6 | No  | No | Yes |\n",
       "| No | 23.71 | No  | No | No  | 28 |  0 | Yes | Female | 40-44       | White | No  | Yes | Very good | 8 | No  | No | No  |\n",
       "\n"
      ],
      "text/plain": [
       "  HeartDisease BMI   Smoking AlcoholDrinking Stroke PhysicalHealth MentalHealth\n",
       "1 No           16.60 Yes     No              No      3             30          \n",
       "2 No           20.34 No      No              Yes     0              0          \n",
       "3 No           26.58 Yes     No              No     20             30          \n",
       "4 No           24.21 No      No              No      0              0          \n",
       "5 No           23.71 No      No              No     28              0          \n",
       "  DiffWalking Sex    AgeCategory Race  Diabetic PhysicalActivity GenHealth\n",
       "1 No          Female 55-59       White Yes      Yes              Very good\n",
       "2 No          Female 80 or older White No       Yes              Very good\n",
       "3 No          Male   65-69       White Yes      Yes              Fair     \n",
       "4 No          Female 75-79       White No       No               Good     \n",
       "5 Yes         Female 40-44       White No       Yes              Very good\n",
       "  SleepTime Asthma KidneyDisease SkinCancer\n",
       "1 5         Yes    No            Yes       \n",
       "2 7         No     No            No        \n",
       "3 8         Yes    No            No        \n",
       "4 6         No     No            Yes       \n",
       "5 8         No     No            No        "
      ]
     },
     "metadata": {},
     "output_type": "display_data"
    }
   ],
   "source": [
    "heart_disease_data <- read_csv(\"heart_disease.csv\")\n",
    "\n",
    "heart_disease <- heart_disease_data%>%\n",
    "    mutate(HeartDisease = as_factor(HeartDisease))\n",
    "heart_disease%>%\n",
    "    slice(1:5)"
   ]
  },
  {
   "cell_type": "code",
   "execution_count": 6,
   "metadata": {},
   "outputs": [
    {
     "data": {
      "text/html": [
       "<table>\n",
       "<caption>A tibble: 5 × 18</caption>\n",
       "<thead>\n",
       "\t<tr><th scope=col>HeartDisease</th><th scope=col>BMI</th><th scope=col>Smoking</th><th scope=col>AlcoholDrinking</th><th scope=col>Stroke</th><th scope=col>PhysicalHealth</th><th scope=col>MentalHealth</th><th scope=col>DiffWalking</th><th scope=col>Sex</th><th scope=col>AgeCategory</th><th scope=col>Race</th><th scope=col>Diabetic</th><th scope=col>PhysicalActivity</th><th scope=col>GenHealth</th><th scope=col>SleepTime</th><th scope=col>Asthma</th><th scope=col>KidneyDisease</th><th scope=col>SkinCancer</th></tr>\n",
       "\t<tr><th scope=col>&lt;fct&gt;</th><th scope=col>&lt;dbl&gt;</th><th scope=col>&lt;chr&gt;</th><th scope=col>&lt;chr&gt;</th><th scope=col>&lt;chr&gt;</th><th scope=col>&lt;dbl&gt;</th><th scope=col>&lt;dbl&gt;</th><th scope=col>&lt;chr&gt;</th><th scope=col>&lt;chr&gt;</th><th scope=col>&lt;chr&gt;</th><th scope=col>&lt;chr&gt;</th><th scope=col>&lt;chr&gt;</th><th scope=col>&lt;chr&gt;</th><th scope=col>&lt;chr&gt;</th><th scope=col>&lt;dbl&gt;</th><th scope=col>&lt;chr&gt;</th><th scope=col>&lt;chr&gt;</th><th scope=col>&lt;chr&gt;</th></tr>\n",
       "</thead>\n",
       "<tbody>\n",
       "\t<tr><td>No</td><td>16.60</td><td>Yes</td><td>No</td><td>No </td><td> 3</td><td>30</td><td>No </td><td>Female</td><td>55-59      </td><td>White</td><td>Yes</td><td>Yes</td><td>Very good</td><td>5</td><td>Yes</td><td>No</td><td>Yes</td></tr>\n",
       "\t<tr><td>No</td><td>20.34</td><td>No </td><td>No</td><td>Yes</td><td> 0</td><td> 0</td><td>No </td><td>Female</td><td>80 or older</td><td>White</td><td>No </td><td>Yes</td><td>Very good</td><td>7</td><td>No </td><td>No</td><td>No </td></tr>\n",
       "\t<tr><td>No</td><td>26.58</td><td>Yes</td><td>No</td><td>No </td><td>20</td><td>30</td><td>No </td><td>Male  </td><td>65-69      </td><td>White</td><td>Yes</td><td>Yes</td><td>Fair     </td><td>8</td><td>Yes</td><td>No</td><td>No </td></tr>\n",
       "\t<tr><td>No</td><td>23.71</td><td>No </td><td>No</td><td>No </td><td>28</td><td> 0</td><td>Yes</td><td>Female</td><td>40-44      </td><td>White</td><td>No </td><td>Yes</td><td>Very good</td><td>8</td><td>No </td><td>No</td><td>No </td></tr>\n",
       "\t<tr><td>No</td><td>21.63</td><td>No </td><td>No</td><td>No </td><td>15</td><td> 0</td><td>No </td><td>Female</td><td>70-74      </td><td>White</td><td>No </td><td>Yes</td><td>Fair     </td><td>4</td><td>Yes</td><td>No</td><td>Yes</td></tr>\n",
       "</tbody>\n",
       "</table>\n"
      ],
      "text/latex": [
       "A tibble: 5 × 18\n",
       "\\begin{tabular}{llllllllllllllllll}\n",
       " HeartDisease & BMI & Smoking & AlcoholDrinking & Stroke & PhysicalHealth & MentalHealth & DiffWalking & Sex & AgeCategory & Race & Diabetic & PhysicalActivity & GenHealth & SleepTime & Asthma & KidneyDisease & SkinCancer\\\\\n",
       " <fct> & <dbl> & <chr> & <chr> & <chr> & <dbl> & <dbl> & <chr> & <chr> & <chr> & <chr> & <chr> & <chr> & <chr> & <dbl> & <chr> & <chr> & <chr>\\\\\n",
       "\\hline\n",
       "\t No & 16.60 & Yes & No & No  &  3 & 30 & No  & Female & 55-59       & White & Yes & Yes & Very good & 5 & Yes & No & Yes\\\\\n",
       "\t No & 20.34 & No  & No & Yes &  0 &  0 & No  & Female & 80 or older & White & No  & Yes & Very good & 7 & No  & No & No \\\\\n",
       "\t No & 26.58 & Yes & No & No  & 20 & 30 & No  & Male   & 65-69       & White & Yes & Yes & Fair      & 8 & Yes & No & No \\\\\n",
       "\t No & 23.71 & No  & No & No  & 28 &  0 & Yes & Female & 40-44       & White & No  & Yes & Very good & 8 & No  & No & No \\\\\n",
       "\t No & 21.63 & No  & No & No  & 15 &  0 & No  & Female & 70-74       & White & No  & Yes & Fair      & 4 & Yes & No & Yes\\\\\n",
       "\\end{tabular}\n"
      ],
      "text/markdown": [
       "\n",
       "A tibble: 5 × 18\n",
       "\n",
       "| HeartDisease &lt;fct&gt; | BMI &lt;dbl&gt; | Smoking &lt;chr&gt; | AlcoholDrinking &lt;chr&gt; | Stroke &lt;chr&gt; | PhysicalHealth &lt;dbl&gt; | MentalHealth &lt;dbl&gt; | DiffWalking &lt;chr&gt; | Sex &lt;chr&gt; | AgeCategory &lt;chr&gt; | Race &lt;chr&gt; | Diabetic &lt;chr&gt; | PhysicalActivity &lt;chr&gt; | GenHealth &lt;chr&gt; | SleepTime &lt;dbl&gt; | Asthma &lt;chr&gt; | KidneyDisease &lt;chr&gt; | SkinCancer &lt;chr&gt; |\n",
       "|---|---|---|---|---|---|---|---|---|---|---|---|---|---|---|---|---|---|\n",
       "| No | 16.60 | Yes | No | No  |  3 | 30 | No  | Female | 55-59       | White | Yes | Yes | Very good | 5 | Yes | No | Yes |\n",
       "| No | 20.34 | No  | No | Yes |  0 |  0 | No  | Female | 80 or older | White | No  | Yes | Very good | 7 | No  | No | No  |\n",
       "| No | 26.58 | Yes | No | No  | 20 | 30 | No  | Male   | 65-69       | White | Yes | Yes | Fair      | 8 | Yes | No | No  |\n",
       "| No | 23.71 | No  | No | No  | 28 |  0 | Yes | Female | 40-44       | White | No  | Yes | Very good | 8 | No  | No | No  |\n",
       "| No | 21.63 | No  | No | No  | 15 |  0 | No  | Female | 70-74       | White | No  | Yes | Fair      | 4 | Yes | No | Yes |\n",
       "\n"
      ],
      "text/plain": [
       "  HeartDisease BMI   Smoking AlcoholDrinking Stroke PhysicalHealth MentalHealth\n",
       "1 No           16.60 Yes     No              No      3             30          \n",
       "2 No           20.34 No      No              Yes     0              0          \n",
       "3 No           26.58 Yes     No              No     20             30          \n",
       "4 No           23.71 No      No              No     28              0          \n",
       "5 No           21.63 No      No              No     15              0          \n",
       "  DiffWalking Sex    AgeCategory Race  Diabetic PhysicalActivity GenHealth\n",
       "1 No          Female 55-59       White Yes      Yes              Very good\n",
       "2 No          Female 80 or older White No       Yes              Very good\n",
       "3 No          Male   65-69       White Yes      Yes              Fair     \n",
       "4 Yes         Female 40-44       White No       Yes              Very good\n",
       "5 No          Female 70-74       White No       Yes              Fair     \n",
       "  SleepTime Asthma KidneyDisease SkinCancer\n",
       "1 5         Yes    No            Yes       \n",
       "2 7         No     No            No        \n",
       "3 8         Yes    No            No        \n",
       "4 8         No     No            No        \n",
       "5 4         Yes    No            Yes       "
      ]
     },
     "metadata": {},
     "output_type": "display_data"
    }
   ],
   "source": [
    "set.seed(1716)\n",
    "heart_disease_split <- initial_split(heart_disease, prop = 0.70, strata = HeartDisease)\n",
    "heart_disease_train <- training(heart_disease_split)\n",
    "heart_disease_test <- testing(heart_disease_split)\n",
    "\n",
    "heart_disease_train %>%\n",
    "    slice(1:5)"
   ]
  },
  {
   "cell_type": "code",
   "execution_count": null,
   "metadata": {},
   "outputs": [],
   "source": []
  }
 ],
 "metadata": {
  "kernelspec": {
   "display_name": "R",
   "language": "R",
   "name": "ir"
  },
  "language_info": {
   "codemirror_mode": "r",
   "file_extension": ".r",
   "mimetype": "text/x-r-source",
   "name": "R",
   "pygments_lexer": "r",
   "version": "4.0.0"
  }
 },
 "nbformat": 4,
 "nbformat_minor": 4
}
